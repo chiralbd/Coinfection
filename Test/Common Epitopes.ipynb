{
 "cells": [
  {
   "cell_type": "code",
   "execution_count": 1,
   "metadata": {},
   "outputs": [],
   "source": [
    "import pandas as pd "
   ]
  },
  {
   "cell_type": "code",
   "execution_count": 2,
   "metadata": {},
   "outputs": [],
   "source": [
    "dengue = pd.read_csv('dengue.csv')"
   ]
  },
  {
   "cell_type": "code",
   "execution_count": 3,
   "metadata": {},
   "outputs": [
    {
     "data": {
      "text/html": [
       "<div>\n",
       "<style scoped>\n",
       "    .dataframe tbody tr th:only-of-type {\n",
       "        vertical-align: middle;\n",
       "    }\n",
       "\n",
       "    .dataframe tbody tr th {\n",
       "        vertical-align: top;\n",
       "    }\n",
       "\n",
       "    .dataframe thead th {\n",
       "        text-align: right;\n",
       "    }\n",
       "</style>\n",
       "<table border=\"1\" class=\"dataframe\">\n",
       "  <thead>\n",
       "    <tr style=\"text-align: right;\">\n",
       "      <th></th>\n",
       "      <th>allele</th>\n",
       "      <th>seq_num</th>\n",
       "      <th>start</th>\n",
       "      <th>end</th>\n",
       "      <th>length</th>\n",
       "      <th>peptide</th>\n",
       "      <th>core</th>\n",
       "      <th>icore</th>\n",
       "      <th>score</th>\n",
       "      <th>rank</th>\n",
       "    </tr>\n",
       "  </thead>\n",
       "  <tbody>\n",
       "    <tr>\n",
       "      <th>0</th>\n",
       "      <td>HLA-B*40:01</td>\n",
       "      <td>1</td>\n",
       "      <td>48</td>\n",
       "      <td>56</td>\n",
       "      <td>9</td>\n",
       "      <td>TEAKQPATL</td>\n",
       "      <td>TEAKQPATL</td>\n",
       "      <td>TEAKQPATL</td>\n",
       "      <td>0.981522</td>\n",
       "      <td>0.01</td>\n",
       "    </tr>\n",
       "    <tr>\n",
       "      <th>1</th>\n",
       "      <td>HLA-A*01:01</td>\n",
       "      <td>1</td>\n",
       "      <td>170</td>\n",
       "      <td>178</td>\n",
       "      <td>9</td>\n",
       "      <td>TTEAELTGY</td>\n",
       "      <td>TTEAELTGY</td>\n",
       "      <td>TTEAELTGY</td>\n",
       "      <td>0.970718</td>\n",
       "      <td>0.01</td>\n",
       "    </tr>\n",
       "    <tr>\n",
       "      <th>2</th>\n",
       "      <td>HLA-A*01:01</td>\n",
       "      <td>1</td>\n",
       "      <td>129</td>\n",
       "      <td>137</td>\n",
       "      <td>9</td>\n",
       "      <td>IVQPENLEY</td>\n",
       "      <td>IVQPENLEY</td>\n",
       "      <td>IVQPENLEY</td>\n",
       "      <td>0.852409</td>\n",
       "      <td>0.05</td>\n",
       "    </tr>\n",
       "    <tr>\n",
       "      <th>3</th>\n",
       "      <td>HLA-B*40:01</td>\n",
       "      <td>1</td>\n",
       "      <td>183</td>\n",
       "      <td>191</td>\n",
       "      <td>9</td>\n",
       "      <td>MECSPRTGL</td>\n",
       "      <td>MECSPRTGL</td>\n",
       "      <td>MECSPRTGL</td>\n",
       "      <td>0.748158</td>\n",
       "      <td>0.14</td>\n",
       "    </tr>\n",
       "    <tr>\n",
       "      <th>4</th>\n",
       "      <td>HLA-A*02:06</td>\n",
       "      <td>1</td>\n",
       "      <td>213</td>\n",
       "      <td>221</td>\n",
       "      <td>9</td>\n",
       "      <td>FLDLPLPWL</td>\n",
       "      <td>FLDLPLPWL</td>\n",
       "      <td>FLDLPLPWL</td>\n",
       "      <td>0.748046</td>\n",
       "      <td>0.09</td>\n",
       "    </tr>\n",
       "  </tbody>\n",
       "</table>\n",
       "</div>"
      ],
      "text/plain": [
       "        allele  seq_num  start  end  length    peptide       core      icore  \\\n",
       "0  HLA-B*40:01        1     48   56       9  TEAKQPATL  TEAKQPATL  TEAKQPATL   \n",
       "1  HLA-A*01:01        1    170  178       9  TTEAELTGY  TTEAELTGY  TTEAELTGY   \n",
       "2  HLA-A*01:01        1    129  137       9  IVQPENLEY  IVQPENLEY  IVQPENLEY   \n",
       "3  HLA-B*40:01        1    183  191       9  MECSPRTGL  MECSPRTGL  MECSPRTGL   \n",
       "4  HLA-A*02:06        1    213  221       9  FLDLPLPWL  FLDLPLPWL  FLDLPLPWL   \n",
       "\n",
       "      score  rank  \n",
       "0  0.981522  0.01  \n",
       "1  0.970718  0.01  \n",
       "2  0.852409  0.05  \n",
       "3  0.748158  0.14  \n",
       "4  0.748046  0.09  "
      ]
     },
     "execution_count": 3,
     "metadata": {},
     "output_type": "execute_result"
    }
   ],
   "source": [
    "dengue.head() "
   ]
  },
  {
   "cell_type": "code",
   "execution_count": 4,
   "metadata": {},
   "outputs": [],
   "source": [
    "covid19 = pd.read_csv('covid19.csv')"
   ]
  },
  {
   "cell_type": "code",
   "execution_count": 5,
   "metadata": {},
   "outputs": [
    {
     "data": {
      "text/html": [
       "<div>\n",
       "<style scoped>\n",
       "    .dataframe tbody tr th:only-of-type {\n",
       "        vertical-align: middle;\n",
       "    }\n",
       "\n",
       "    .dataframe tbody tr th {\n",
       "        vertical-align: top;\n",
       "    }\n",
       "\n",
       "    .dataframe thead th {\n",
       "        text-align: right;\n",
       "    }\n",
       "</style>\n",
       "<table border=\"1\" class=\"dataframe\">\n",
       "  <thead>\n",
       "    <tr style=\"text-align: right;\">\n",
       "      <th></th>\n",
       "      <th>allele</th>\n",
       "      <th>seq_num</th>\n",
       "      <th>start</th>\n",
       "      <th>end</th>\n",
       "      <th>length</th>\n",
       "      <th>peptide</th>\n",
       "      <th>core</th>\n",
       "      <th>icore</th>\n",
       "      <th>score</th>\n",
       "      <th>rank</th>\n",
       "    </tr>\n",
       "  </thead>\n",
       "  <tbody>\n",
       "    <tr>\n",
       "      <th>0</th>\n",
       "      <td>HLA-A*01:01</td>\n",
       "      <td>1</td>\n",
       "      <td>174</td>\n",
       "      <td>182</td>\n",
       "      <td>9</td>\n",
       "      <td>GTDLEGNFY</td>\n",
       "      <td>GTDLEGNFY</td>\n",
       "      <td>GTDLEGNFY</td>\n",
       "      <td>0.990301</td>\n",
       "      <td>0.01</td>\n",
       "    </tr>\n",
       "    <tr>\n",
       "      <th>1</th>\n",
       "      <td>HLA-A*03:01</td>\n",
       "      <td>1</td>\n",
       "      <td>129</td>\n",
       "      <td>137</td>\n",
       "      <td>9</td>\n",
       "      <td>AMRPNFTIK</td>\n",
       "      <td>AMRPNFTIK</td>\n",
       "      <td>AMRPNFTIK</td>\n",
       "      <td>0.852847</td>\n",
       "      <td>0.05</td>\n",
       "    </tr>\n",
       "    <tr>\n",
       "      <th>2</th>\n",
       "      <td>HLA-A*02:06</td>\n",
       "      <td>1</td>\n",
       "      <td>106</td>\n",
       "      <td>114</td>\n",
       "      <td>9</td>\n",
       "      <td>IQPGQTFSV</td>\n",
       "      <td>IQPGQTFSV</td>\n",
       "      <td>IQPGQTFSV</td>\n",
       "      <td>0.807520</td>\n",
       "      <td>0.07</td>\n",
       "    </tr>\n",
       "    <tr>\n",
       "      <th>3</th>\n",
       "      <td>HLA-A*02:06</td>\n",
       "      <td>1</td>\n",
       "      <td>219</td>\n",
       "      <td>227</td>\n",
       "      <td>9</td>\n",
       "      <td>FLNRFTTTL</td>\n",
       "      <td>FLNRFTTTL</td>\n",
       "      <td>FLNRFTTTL</td>\n",
       "      <td>0.716356</td>\n",
       "      <td>0.11</td>\n",
       "    </tr>\n",
       "    <tr>\n",
       "      <th>4</th>\n",
       "      <td>HLA-A*01:01</td>\n",
       "      <td>1</td>\n",
       "      <td>93</td>\n",
       "      <td>101</td>\n",
       "      <td>9</td>\n",
       "      <td>TANPKTPKY</td>\n",
       "      <td>TANPKTPKY</td>\n",
       "      <td>TANPKTPKY</td>\n",
       "      <td>0.708338</td>\n",
       "      <td>0.09</td>\n",
       "    </tr>\n",
       "  </tbody>\n",
       "</table>\n",
       "</div>"
      ],
      "text/plain": [
       "        allele  seq_num  start  end  length    peptide       core      icore  \\\n",
       "0  HLA-A*01:01        1    174  182       9  GTDLEGNFY  GTDLEGNFY  GTDLEGNFY   \n",
       "1  HLA-A*03:01        1    129  137       9  AMRPNFTIK  AMRPNFTIK  AMRPNFTIK   \n",
       "2  HLA-A*02:06        1    106  114       9  IQPGQTFSV  IQPGQTFSV  IQPGQTFSV   \n",
       "3  HLA-A*02:06        1    219  227       9  FLNRFTTTL  FLNRFTTTL  FLNRFTTTL   \n",
       "4  HLA-A*01:01        1     93  101       9  TANPKTPKY  TANPKTPKY  TANPKTPKY   \n",
       "\n",
       "      score  rank  \n",
       "0  0.990301  0.01  \n",
       "1  0.852847  0.05  \n",
       "2  0.807520  0.07  \n",
       "3  0.716356  0.11  \n",
       "4  0.708338  0.09  "
      ]
     },
     "execution_count": 5,
     "metadata": {},
     "output_type": "execute_result"
    }
   ],
   "source": [
    "covid19.head() "
   ]
  },
  {
   "cell_type": "code",
   "execution_count": 12,
   "metadata": {},
   "outputs": [
    {
     "data": {
      "text/plain": [
       "array(['TEAKQPATL', 'TTEAELTGY', 'IVQPENLEY', 'MECSPRTGL', 'FLDLPLPWL',\n",
       "       'AELTGYGTV', 'LQMEDKAWL', 'IVLEHGSCV', 'GSCVTTMAK', 'QMEDKAWLV',\n",
       "       'RQWFLDLPL', 'TQGSNWIQK', 'WLVHRQWFL', 'TMAKNKPTL', 'VTCAMFTCK',\n",
       "       'VQPENLEYT', 'GLDFNEMVL', 'LEYTIVITP', 'LDFNEMVLL', 'KEIKITPQS',\n",
       "       'GADTQGSNW', 'CVTTMAKNK', 'NEEQDKRFI', 'EQDKRFICK', 'IEAKLTNTT',\n",
       "       'AKQPATLRK', 'KQPATLRKY', 'MEDKAWLVH', 'TLDFELIKT', 'TGLDFNEMV',\n",
       "       'LTNTTTESR', 'PTLDFELIK', 'SLNEEQDKR', 'GLFGKGGIV', 'ITPHSGEEH',\n",
       "       'MVLLQMEDK', 'SWVDIVLEH', 'VLLQMEDKA', 'TLRKYCIEA', 'SNRDFVEGV',\n",
       "       'LEHGSCVTT', 'FNEMVLLQM', 'VTMECSPRT', 'YTIVITPHS', 'FGKGGIVTC',\n",
       "       'LTGYGTVTM', 'CSPRTGLDF', 'SNWIQKETL', 'TCAMFTCKK', 'EEQDKRFIC',\n",
       "       'GKIVQPENL', 'VEGVSGGSW', 'GNDTGKHGK', 'LPLPWLPGA', 'PENLEYTIV',\n",
       "       'AMFTCKKNM', 'QSSTTEAEL', 'RTGLDFNEM', 'HAVGNDTGK', 'RGWGNGCGL',\n",
       "       'EAKQPATLR', 'KITPQSSTT', 'IGISNRDFV', 'TTESRCPTQ', 'AVGNDTGKH',\n",
       "       'RKYCIEAKL', 'TQGEPSLNE', 'TCKKNMEGK', 'GEPSLNEEQ', 'KRFICKHSM',\n",
       "       'AKNKPTLDF', 'LNEEQDKRF', 'KLTNTTTES', 'NKPTLDFEL', 'FELIKTEAK',\n",
       "       'NMEGKIVQP', 'NWIQKETLV', 'GKHGKEIKI', 'ADTQGSNWI', 'ENLEYTIVI',\n",
       "       'DTQGSNWIQ', 'TGKHGKEIK', 'GGSWVDIVL', 'KTEAKQPAT', 'IVTCAMFTC',\n",
       "       'SGGSWVDIV', 'TEAELTGYG', 'GNGCGLFGK', 'KAWLVHRQW', 'ITPQSSTTE',\n",
       "       'MEGKIVQPE', 'LLQMEDKAW', 'SSTTEAELT', 'IVITPHSGE', 'WFLDLPLPW',\n",
       "       'MRCIGISNR', 'DTGKHGKEI', 'KIVQPENLE', 'QPENLEYTI', 'TVTMECSPR',\n",
       "       'EEHAVGNDT', 'EDKAWLVHR', 'TPQSSTTEA', 'TTMAKNKPT', 'TGYGTVTME',\n",
       "       'WIQKETLVT', 'NLEYTIVIT', 'WVDIVLEHG', 'KPTLDFELI', 'LRKYCIEAK',\n",
       "       'SMVDRGWGN', 'EGVSGGSWV', 'NEMVLLQME', 'CIEAKLTNT', 'KHSMVDRGW',\n",
       "       'FVEGVSGGS', 'RDFVEGVSG', 'EHGSCVTTM', 'QWFLDLPLP', 'QDKRFICKH',\n",
       "       'LDLPLPWLP', 'GIVTCAMFT', 'CPTQGEPSL', 'DFELIKTEA', 'MVDRGWGNG',\n",
       "       'EAELTGYGT', 'VLEHGSCVT', 'GSWVDIVLE', 'VSGGSWVDI', 'STTEAELTG',\n",
       "       'ICKHSMVDR', 'KKNMEGKIV', 'RFICKHSMV', 'TTTESRCPT', 'QGEPSLNEE',\n",
       "       'TIVITPHSG', 'GSNWIQKET', 'KNMEGKIVQ', 'CIGISNRDF', 'TESRCPTQG',\n",
       "       'VITPHSGEE', 'HGKEIKITP', 'EYTIVITPH', 'GYGTVTMEC', 'HGSCVTTMA',\n",
       "       'PTQGEPSLN', 'AWLVHRQWF', 'FTCKKNMEG', 'DFNEMVLLQ', 'VTTMAKNKP',\n",
       "       'PSLNEEQDK', 'EAKLTNTTT', 'LIKTEAKQP', 'GWGNGCGLF', 'ESRCPTQGE',\n",
       "       'ATLRKYCIE', 'ELTGYGTVT', 'GGIVTCAMF', 'LDFELIKTE', 'WLPGADTQG',\n",
       "       'GTVTMECSP', 'ELIKTEAKQ', 'NTTTESRCP', 'ISNRDFVEG', 'GKGGIVTCA',\n",
       "       'TPHSGEEHA', 'EIKITPQSS', 'VDRGWGNGC', 'GVSGGSWVD', 'VHRQWFLDL',\n",
       "       'HSGEEHAVG', 'IKTEAKQPA', 'YCIEAKLTN', 'SGEEHAVGN', 'IKITPQSST',\n",
       "       'KGGIVTCAM', 'TMECSPRTG', 'QGSNWIQKE', 'KNKPTLDFE', 'PHSGEEHAV',\n",
       "       'CGLFGKGGI', 'DIVLEHGSC', 'DLPLPWLPG', 'MAKNKPTLD', 'LFGKGGIVT',\n",
       "       'GISNRDFVE', 'SRCPTQGEP', 'AKLTNTTTE', 'QPATLRKYC', 'TNTTTESRC',\n",
       "       'EGKIVQPEN', 'FICKHSMVD', 'HRQWFLDLP', 'PQSSTTEAE', 'LPWLPGADT',\n",
       "       'GKEIKITPQ', 'PWLPGADTQ', 'DKAWLVHRQ', 'VGNDTGKHG', 'YGTVTMECS',\n",
       "       'LPGADTQGS', 'VDIVLEHGS', 'RCIGISNRD', 'PATLRKYCI', 'NRDFVEGVS',\n",
       "       'EMVLLQMED', 'SPRTGLDFN', 'LVHRQWFLD', 'WGNGCGLFG', 'DFVEGVSGG',\n",
       "       'KHGKEIKIT', 'GEEHAVGND', 'ECSPRTGLD', 'NDTGKHGKE', 'HSMVDRGWG',\n",
       "       'RCPTQGEPS', 'SCVTTMAKN', 'PGADTQGSN', 'KYCIEAKLT', 'CKKNMEGKI',\n",
       "       'EHAVGNDTG', 'CAMFTCKKN', 'MFTCKKNME', 'NGCGLFGKG', 'PLPWLPGAD',\n",
       "       'EPSLNEEQD', 'DRGWGNGCG', 'DKRFICKHS', 'PRTGLDFNE', 'GCGLFGKGG',\n",
       "       'CKHSMVDRG'], dtype=object)"
      ]
     },
     "execution_count": 12,
     "metadata": {},
     "output_type": "execute_result"
    }
   ],
   "source": [
    "dengue['peptide'].unique() "
   ]
  },
  {
   "cell_type": "code",
   "execution_count": 13,
   "metadata": {},
   "outputs": [
    {
     "data": {
      "text/plain": [
       "231"
      ]
     },
     "execution_count": 13,
     "metadata": {},
     "output_type": "execute_result"
    }
   ],
   "source": [
    "dengue['peptide'].nunique() "
   ]
  },
  {
   "cell_type": "code",
   "execution_count": 14,
   "metadata": {},
   "outputs": [
    {
     "data": {
      "text/plain": [
       "array(['GTDLEGNFY', 'AMRPNFTIK', 'IQPGQTFSV', 'FLNRFTTTL', 'TANPKTPKY',\n",
       "       'QTFSVLACY', 'TVNVLAWLY', 'AVLDMCASL', 'KVEGCMVQV', 'TTLNDFNLV',\n",
       "       'NVLAWLYAA', 'HSMQNCVLK', 'FVDRQTAQA', 'LVQAGNVQL', 'VLDMCASLK',\n",
       "       'DEFTPFDVV', 'SEDMLNPNY', 'YNGSPSGVY', 'TLNDFNLVA', 'YEPLTQDHV',\n",
       "       'MELPTGVHA', 'SMQNCVLKL', 'MLNPNYEDL', 'ITVNVLAWL', 'AGTDTTITV',\n",
       "       'MQNCVLKLK', 'GSVGFNIDY', 'VINGDRWFL', 'RTILGSALL', 'FLNGSCGSV',\n",
       "       'DTANPKTPK', 'VLAWLYAAV', 'FCYMHHMEL', 'TTITVNVLA', 'ALLEDEFTP',\n",
       "       'VLKLKVDTA', 'NIDYDCVSF', 'ILGPLSAQT', 'KTPKYKFVR', 'DYDCVSFCY',\n",
       "       'LTQDHVDIL', 'KMAFPSGKV', 'DFNLVAMKY', 'GLWLDDVVY', 'RKMAFPSGK',\n",
       "       'LSAQTGIAV', 'YQCAMRPNF', 'VQAGNVQLR', 'LLEDEFTPF', 'QAGNVQLRV',\n",
       "       'SAQTGIAVL', 'YEDLLIRKS', 'LLQNGMNGR', 'GQTFSVLAC', 'VVYCPRHVI',\n",
       "       'NLVAMKYNY', 'HHMELPTGV', 'AQAAGTDTT', 'ANPKTPKYK', 'NFYGPFVDR',\n",
       "       'VRIQPGQTF', 'CAMRPNFTI', 'QVTCGTTTL', 'LNDFNLVAM', 'SNHNFLVQA',\n",
       "       'HVDILGPLS', 'AVINGDRWF', 'KVDTANPKT', 'VSFCYMHHM', 'GSALLEDEF',\n",
       "       'AMKYNYEPL', 'RVIGHSMQN', 'HMELPTGVH', 'TTTLNDFNL', 'MCASLKELL',\n",
       "       'LEGNFYGPF', 'KSNHNFLVQ', 'GSPSGVYQC', 'GTTTLNGLW', 'QAAGTDTTI',\n",
       "       'SLKELLQNG', 'TDTTITVNV', 'LWLDDVVYC', 'WLDDVVYCP', 'RIQPGQTFS',\n",
       "       'RQCSGVTFQ', 'NYEDLLIRK', 'NPKTPKYKF', 'GTDTTITVN', 'VIGHSMQNC',\n",
       "       'NVQLRVIGH', 'QLRVIGHSM', 'VICTSEDML', 'VQVTCGTTT', 'AAVINGDRW',\n",
       "       'TTTLNGLWL', 'GDRWFLNRF', 'TPFDVVRQC', 'NDFNLVAMK', 'QTGIAVLDM',\n",
       "       'DMCASLKEL', 'RKSNHNFLV', 'HVICTSEDM', 'NGDRWFLNR', 'NYEPLTQDH',\n",
       "       'DTTITVNVL', 'FTPFDVVRQ', 'RQTAQAAGT', 'YDCVSFCYM', 'LIRKSNHNF',\n",
       "       'LAWLYAAVI', 'YMHHMELPT', 'VDILGPLSA', 'GVYQCAMRP', 'KLKVDTANP',\n",
       "       'GRTILGSAL', 'DVVYCPRHV', 'GIAVLDMCA', 'TITVNVLAW', 'SCGSVGFNI',\n",
       "       'VQLRVIGHS', 'LKVDTANPK', 'DVVRQCSGV', 'CVSFCYMHH', 'TILGSALLE',\n",
       "       'VAMKYNYEP', 'VRQCSGVTF', 'IGHSMQNCV', 'CTSEDMLNP', 'AQTGIAVLD',\n",
       "       'EGNFYGPFV', 'FLVQAGNVQ', 'QPGQTFSVL', 'VEGCMVQVT', 'EFTPFDVVR',\n",
       "       'GHSMQNCVL', 'PSGKVEGCM', 'WLYAAVING', 'FTIKGSFLN', 'FPSGKVEGC',\n",
       "       'CGTTTLNGL', 'KYNYEPLTQ', 'SGFRKMAFP', 'ELPTGVHAG', 'CMVQVTCGT',\n",
       "       'VDRQTAQAA', 'AGNVQLRVI', 'QNCVLKLKV', 'TSEDMLNPN', 'KFVRIQPGQ',\n",
       "       'IRKSNHNFL', 'CASLKELLQ', 'TPKYKFVRI', 'DILGPLSAQ', 'NGSCGSVGF',\n",
       "       'VTCGTTTLN', 'LKELLQNGM', 'NPNYEDLLI', 'SVLACYNGS', 'TQDHVDILG',\n",
       "       'YCPRHVICT', 'SGKVEGCMV', 'NFTIKGSFL', 'AGTDLEGNF', 'GPLSAQTGI',\n",
       "       'FTTTLNDFN', 'DHVDILGPL', 'LEDEFTPFD', 'SGVYQCAMR', 'SPSGVYQCA',\n",
       "       'TGIAVLDMC', 'IDYDCVSFC', 'LNPNYEDLL', 'MAFPSGKVE', 'PNYEDLLIR',\n",
       "       'NGMNGRTIL', 'RWFLNRFTT', 'PSGVYQCAM', 'NGSPSGVYQ', 'GPFVDRQTA',\n",
       "       'YAAVINGDR', 'PNFTIKGSF', 'EDEFTPFDV', 'MVQVTCGTT', 'SALLEDEFT',\n",
       "       'ILGSALLED', 'FVRIQPGQT', 'CYNGSPSGV', 'RFTTTLNDF', 'TGVHAGTDL',\n",
       "       'TTLNGLWLD', 'TIKGSFLNG', 'ASLKELLQN', 'DLLIRKSNH', 'WFLNRFTTT',\n",
       "       'DLEGNFYGP', 'KYKFVRIQP', 'NGLWLDDVV', 'YNYEPLTQD', 'VNVLAWLYA',\n",
       "       'LDDVVYCPR', 'GMNGRTILG', 'ACYNGSPSG', 'CVLKLKVDT', 'IAVLDMCAS',\n",
       "       'VYCPRHVIC', 'LQNGMNGRT', 'NFLVQAGNV', 'YGPFVDRQT', 'FYGPFVDRQ',\n",
       "       'NGRTILGSA', 'GVHAGTDLE', 'LVAMKYNYE', 'QNGMNGRTI', 'TAQAAGTDT',\n",
       "       'DCVSFCYMH', 'QTAQAAGTD', 'AAGTDTTIT', 'VLACYNGSP', 'ELLQNGMNG',\n",
       "       'MKYNYEPLT', 'QCAMRPNFT', 'EGCMVQVTC', 'LNGLWLDDV', 'VGFNIDYDC',\n",
       "       'FNIDYDCVS', 'PLSAQTGIA', 'PFDVVRQCS', 'RPNFTIKGS', 'PLTQDHVDI',\n",
       "       'KELLQNGMN', 'VDTANPKTP', 'SFCYMHHME', 'PGQTFSVLA', 'GFNIDYDCV',\n",
       "       'DDVVYCPRH', 'QDHVDILGP', 'LLIRKSNHN', 'GSFLNGSCG', 'GKVEGCMVQ',\n",
       "       'VVRQCSGVT', 'TDLEGNFYG', 'LPTGVHAGT', 'EDMLNPNYE', 'MRPNFTIKG',\n",
       "       'KGSFLNGSC', 'CYMHHMELP', 'AFPSGKVEG', 'FSVLACYNG', 'GSCGSVGFN',\n",
       "       'MHHMELPTG', 'LDMCASLKE', 'MNGRTILGS', 'SFLNGSCGS', 'INGDRWFLN',\n",
       "       'SVGFNIDYD', 'CPRHVICTS', 'DMLNPNYED', 'PKTPKYKFV', 'LRVIGHSMQ',\n",
       "       'LACYNGSPS', 'HAGTDLEGN', 'NHNFLVQAG', 'TLNGLWLDD', 'PFVDRQTAQ',\n",
       "       'GFRKMAFPS', 'DRWFLNRFT', 'LNRFTTTLN', 'PTGVHAGTD', 'VHAGTDLEG',\n",
       "       'ICTSEDMLN', 'FRKMAFPSG', 'TCGTTTLNG', 'FDVVRQCSG', 'LGPLSAQTG',\n",
       "       'HNFLVQAGN', 'YKFVRIQPG', 'LGSALLEDE', 'GNFYGPFVD', 'TFSVLACYN',\n",
       "       'FNLVAMKYN', 'DRQTAQAAG', 'EDLLIRKSN', 'GNVQLRVIG', 'GCMVQVTCG',\n",
       "       'AWLYAAVIN', 'LYAAVINGD', 'IKGSFLNGS', 'EPLTQDHVD', 'LNGSCGSVG',\n",
       "       'PKYKFVRIQ', 'CGSVGFNID', 'NRFTTTLND', 'NCVLKLKVD', 'VYQCAMRPN',\n",
       "       'LKLKVDTAN', 'PRHVICTSE', 'RHVICTSED'], dtype=object)"
      ]
     },
     "execution_count": 14,
     "metadata": {},
     "output_type": "execute_result"
    }
   ],
   "source": [
    "covid19['peptide'].unique() "
   ]
  },
  {
   "cell_type": "code",
   "execution_count": 15,
   "metadata": {},
   "outputs": [
    {
     "data": {
      "text/plain": [
       "298"
      ]
     },
     "execution_count": 15,
     "metadata": {},
     "output_type": "execute_result"
    }
   ],
   "source": [
    "covid19['peptide'].nunique() "
   ]
  },
  {
   "cell_type": "code",
   "execution_count": 17,
   "metadata": {},
   "outputs": [],
   "source": [
    "import numpy as np "
   ]
  },
  {
   "cell_type": "code",
   "execution_count": 20,
   "metadata": {},
   "outputs": [],
   "source": [
    "common_epitopes = np.intersect1d(dengue.peptide, covid19.peptide)"
   ]
  },
  {
   "cell_type": "code",
   "execution_count": 21,
   "metadata": {},
   "outputs": [
    {
     "data": {
      "text/plain": [
       "0"
      ]
     },
     "execution_count": 21,
     "metadata": {},
     "output_type": "execute_result"
    }
   ],
   "source": [
    "len(common_epitopes)"
   ]
  },
  {
   "cell_type": "code",
   "execution_count": 8,
   "metadata": {},
   "outputs": [
    {
     "data": {
      "text/plain": [
       "set()"
      ]
     },
     "execution_count": 8,
     "metadata": {},
     "output_type": "execute_result"
    }
   ],
   "source": [
    "# find common epitopes \n",
    "set(dengue['peptide']).intersection(set(covid19['peptide']))"
   ]
  },
  {
   "cell_type": "code",
   "execution_count": 22,
   "metadata": {},
   "outputs": [
    {
     "name": "stdout",
     "output_type": "stream",
     "text": [
      "No. of Common Epitopes:  0\n"
     ]
    }
   ],
   "source": [
    "common_epitopes = len(set(dengue['peptide']).intersection(set(covid19['peptide'])))\n",
    "print(\"No. of Common Epitopes: \", common_epitopes)"
   ]
  }
 ],
 "metadata": {
  "kernelspec": {
   "display_name": "Python 3",
   "language": "python",
   "name": "python3"
  },
  "language_info": {
   "codemirror_mode": {
    "name": "ipython",
    "version": 3
   },
   "file_extension": ".py",
   "mimetype": "text/x-python",
   "name": "python",
   "nbconvert_exporter": "python",
   "pygments_lexer": "ipython3",
   "version": "3.7.4"
  },
  "latex_envs": {
   "LaTeX_envs_menu_present": true,
   "autoclose": false,
   "autocomplete": true,
   "bibliofile": "biblio.bib",
   "cite_by": "apalike",
   "current_citInitial": 1,
   "eqLabelWithNumbers": true,
   "eqNumInitial": 1,
   "hotkeys": {
    "equation": "Ctrl-E",
    "itemize": "Ctrl-I"
   },
   "labels_anchors": false,
   "latex_user_defs": false,
   "report_style_numbering": false,
   "user_envs_cfg": false
  }
 },
 "nbformat": 4,
 "nbformat_minor": 4
}

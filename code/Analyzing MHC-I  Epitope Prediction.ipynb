{
 "cells": [
  {
   "cell_type": "markdown",
   "metadata": {},
   "source": [
    "# Analyzing MHC-I  Epitope Prediction"
   ]
  },
  {
   "cell_type": "code",
   "execution_count": 15,
   "metadata": {},
   "outputs": [],
   "source": [
    "import numpy as np # for linear algebra \n",
    "import pandas as pd # for data analysis(small dataset)\n",
    "import matplotlib as plt # static visualization\n",
    "import seaborn as sns # advance visualization\n",
    "import dask.dataframe as dd # handling large datasets \n",
    "import dask.array as da \n",
    "\n",
    "# set pandas options \n",
    "pd.set_option('display.width', 200)\n",
    "pd.set_option('precision', 3)\n",
    "pd.set_option('display.max_columns', 15)\n",
    "pd.set_option('display.max_rows', 1000)\n",
    "\n",
    "# set plot styles,size and fontsize \n",
    "sns.set_style('whitegrid')\n",
    "plt.rcParams['figure.figsize'] = (8, 6)\n",
    "plt.rcParams['font.size'] = 14 \n",
    "plt.rcParams['font.family'] = 'serif'"
   ]
  },
  {
   "cell_type": "code",
   "execution_count": 16,
   "metadata": {},
   "outputs": [],
   "source": [
    "df = pd.read_csv('../cleaned_data/mhc-i/mhc-i_prediction.csv')"
   ]
  },
  {
   "cell_type": "markdown",
   "metadata": {},
   "source": [
    "## Exploring Data "
   ]
  },
  {
   "cell_type": "code",
   "execution_count": 17,
   "metadata": {},
   "outputs": [
    {
     "data": {
      "text/html": [
       "<div>\n",
       "<style scoped>\n",
       "    .dataframe tbody tr th:only-of-type {\n",
       "        vertical-align: middle;\n",
       "    }\n",
       "\n",
       "    .dataframe tbody tr th {\n",
       "        vertical-align: top;\n",
       "    }\n",
       "\n",
       "    .dataframe thead th {\n",
       "        text-align: right;\n",
       "    }\n",
       "</style>\n",
       "<table border=\"1\" class=\"dataframe\">\n",
       "  <thead>\n",
       "    <tr style=\"text-align: right;\">\n",
       "      <th></th>\n",
       "      <th>start</th>\n",
       "      <th>end</th>\n",
       "      <th>length</th>\n",
       "      <th>peptide</th>\n",
       "      <th>score</th>\n",
       "      <th>accession_code</th>\n",
       "      <th>protein_length</th>\n",
       "      <th>antigen_presenting_protein</th>\n",
       "    </tr>\n",
       "  </thead>\n",
       "  <tbody>\n",
       "    <tr>\n",
       "      <th>0</th>\n",
       "      <td>204.0</td>\n",
       "      <td>212.0</td>\n",
       "      <td>9.0</td>\n",
       "      <td>KSWLVHKQW</td>\n",
       "      <td>NaN</td>\n",
       "      <td>MN959467</td>\n",
       "      <td>495</td>\n",
       "      <td>MHC-I</td>\n",
       "    </tr>\n",
       "    <tr>\n",
       "      <th>1</th>\n",
       "      <td>313.0</td>\n",
       "      <td>321.0</td>\n",
       "      <td>9.0</td>\n",
       "      <td>AETQHGTVL</td>\n",
       "      <td>NaN</td>\n",
       "      <td>MN959467</td>\n",
       "      <td>495</td>\n",
       "      <td>MHC-I</td>\n",
       "    </tr>\n",
       "    <tr>\n",
       "      <th>2</th>\n",
       "      <td>204.0</td>\n",
       "      <td>212.0</td>\n",
       "      <td>9.0</td>\n",
       "      <td>KSWLVHKQW</td>\n",
       "      <td>NaN</td>\n",
       "      <td>MN959467</td>\n",
       "      <td>495</td>\n",
       "      <td>MHC-I</td>\n",
       "    </tr>\n",
       "    <tr>\n",
       "      <th>3</th>\n",
       "      <td>49.0</td>\n",
       "      <td>57.0</td>\n",
       "      <td>9.0</td>\n",
       "      <td>EVTNPAVLR</td>\n",
       "      <td>NaN</td>\n",
       "      <td>MN959467</td>\n",
       "      <td>495</td>\n",
       "      <td>MHC-I</td>\n",
       "    </tr>\n",
       "    <tr>\n",
       "      <th>4</th>\n",
       "      <td>223.0</td>\n",
       "      <td>231.0</td>\n",
       "      <td>9.0</td>\n",
       "      <td>GASTSQETW</td>\n",
       "      <td>NaN</td>\n",
       "      <td>MN959467</td>\n",
       "      <td>495</td>\n",
       "      <td>MHC-I</td>\n",
       "    </tr>\n",
       "  </tbody>\n",
       "</table>\n",
       "</div>"
      ],
      "text/plain": [
       "   start    end  length    peptide  score accession_code  protein_length antigen_presenting_protein\n",
       "0  204.0  212.0     9.0  KSWLVHKQW    NaN       MN959467             495                      MHC-I\n",
       "1  313.0  321.0     9.0  AETQHGTVL    NaN       MN959467             495                      MHC-I\n",
       "2  204.0  212.0     9.0  KSWLVHKQW    NaN       MN959467             495                      MHC-I\n",
       "3   49.0   57.0     9.0  EVTNPAVLR    NaN       MN959467             495                      MHC-I\n",
       "4  223.0  231.0     9.0  GASTSQETW    NaN       MN959467             495                      MHC-I"
      ]
     },
     "execution_count": 17,
     "metadata": {},
     "output_type": "execute_result"
    }
   ],
   "source": [
    "df.head() "
   ]
  },
  {
   "cell_type": "code",
   "execution_count": 14,
   "metadata": {},
   "outputs": [
    {
     "data": {
      "text/plain": [
       "(59075, 8)"
      ]
     },
     "execution_count": 14,
     "metadata": {},
     "output_type": "execute_result"
    }
   ],
   "source": [
    "# shape \n",
    "df.shape "
   ]
  },
  {
   "cell_type": "code",
   "execution_count": 9,
   "metadata": {},
   "outputs": [
    {
     "data": {
      "text/plain": [
       "Index(['start', 'end', 'length', 'peptide', 'score', 'accession_code', 'protein_length',\n",
       "       'antigen_presenting_protein'],\n",
       "      dtype='object')"
      ]
     },
     "execution_count": 9,
     "metadata": {},
     "output_type": "execute_result"
    }
   ],
   "source": [
    "# columns \n",
    "df.columns"
   ]
  },
  {
   "cell_type": "code",
   "execution_count": 10,
   "metadata": {},
   "outputs": [
    {
     "data": {
      "text/plain": [
       "start                         float64\n",
       "end                           float64\n",
       "length                        float64\n",
       "peptide                        object\n",
       "score                         float64\n",
       "accession_code                 object\n",
       "protein_length                  int64\n",
       "antigen_presenting_protein     object\n",
       "dtype: object"
      ]
     },
     "execution_count": 10,
     "metadata": {},
     "output_type": "execute_result"
    }
   ],
   "source": [
    "# dtypes \n",
    "df.dtypes "
   ]
  },
  {
   "cell_type": "code",
   "execution_count": 11,
   "metadata": {},
   "outputs": [
    {
     "data": {
      "text/plain": [
       "start                         59073\n",
       "end                           59069\n",
       "length                        59069\n",
       "peptide                       59069\n",
       "score                             0\n",
       "accession_code                59075\n",
       "protein_length                59075\n",
       "antigen_presenting_protein    59075\n",
       "dtype: int64"
      ]
     },
     "execution_count": 11,
     "metadata": {},
     "output_type": "execute_result"
    }
   ],
   "source": [
    "# size \n",
    "df.count() "
   ]
  },
  {
   "cell_type": "code",
   "execution_count": 12,
   "metadata": {},
   "outputs": [
    {
     "name": "stdout",
     "output_type": "stream",
     "text": [
      "<class 'pandas.core.frame.DataFrame'>\n",
      "RangeIndex: 59075 entries, 0 to 59074\n",
      "Data columns (total 8 columns):\n",
      " #   Column                      Non-Null Count  Dtype  \n",
      "---  ------                      --------------  -----  \n",
      " 0   start                       59073 non-null  float64\n",
      " 1   end                         59069 non-null  float64\n",
      " 2   length                      59069 non-null  float64\n",
      " 3   peptide                     59069 non-null  object \n",
      " 4   score                       0 non-null      float64\n",
      " 5   accession_code              59075 non-null  object \n",
      " 6   protein_length              59075 non-null  int64  \n",
      " 7   antigen_presenting_protein  59075 non-null  object \n",
      "dtypes: float64(4), int64(1), object(3)\n",
      "memory usage: 3.6+ MB\n"
     ]
    }
   ],
   "source": [
    "# info \n",
    "df.info()    "
   ]
  },
  {
   "cell_type": "code",
   "execution_count": 13,
   "metadata": {},
   "outputs": [
    {
     "data": {
      "text/plain": [
       "start                             2\n",
       "end                               6\n",
       "length                            6\n",
       "peptide                           6\n",
       "score                         59075\n",
       "accession_code                    0\n",
       "protein_length                    0\n",
       "antigen_presenting_protein        0\n",
       "dtype: int64"
      ]
     },
     "execution_count": 13,
     "metadata": {},
     "output_type": "execute_result"
    }
   ],
   "source": [
    "# missings \n",
    "df.isnull().sum() "
   ]
  }
 ],
 "metadata": {
  "kernelspec": {
   "display_name": "Python 3",
   "language": "python",
   "name": "python3"
  },
  "language_info": {
   "codemirror_mode": {
    "name": "ipython",
    "version": 3
   },
   "file_extension": ".py",
   "mimetype": "text/x-python",
   "name": "python",
   "nbconvert_exporter": "python",
   "pygments_lexer": "ipython3",
   "version": "3.7.4"
  },
  "latex_envs": {
   "LaTeX_envs_menu_present": true,
   "autoclose": false,
   "autocomplete": true,
   "bibliofile": "biblio.bib",
   "cite_by": "apalike",
   "current_citInitial": 1,
   "eqLabelWithNumbers": true,
   "eqNumInitial": 1,
   "hotkeys": {
    "equation": "Ctrl-E",
    "itemize": "Ctrl-I"
   },
   "labels_anchors": false,
   "latex_user_defs": false,
   "report_style_numbering": false,
   "user_envs_cfg": false
  }
 },
 "nbformat": 4,
 "nbformat_minor": 4
}

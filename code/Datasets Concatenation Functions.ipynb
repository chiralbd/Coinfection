{
 "cells": [
  {
   "cell_type": "code",
   "execution_count": 17,
   "metadata": {},
   "outputs": [],
   "source": [
    "import os\n",
    "import glob\n",
    "import pandas as pd\n",
    "pd.set_option(\"display.max_columns\", 20)\n",
    "os.chdir(\"../mhc-i/\")"
   ]
  },
  {
   "cell_type": "code",
   "execution_count": 18,
   "metadata": {},
   "outputs": [],
   "source": [
    "def concatDataset(data, output = \"dataset.csv\"): \n",
    "    \"\"\"\n",
    "    Params: \n",
    "        data: Data folder with `.csv` extensions. \n",
    "        output: Combined dataset as `.csv`\n",
    "    Returns: \n",
    "        Takes a data folder as input and returns combined dataset. \n",
    "    \"\"\"\n",
    "    extension = 'csv' \n",
    "    all_files = [i for i in glob.glob('*.{}'.format(extension))] \n",
    "    # combining datasets \n",
    "    combined_csv = pd.concat([pd.read_csv(f) for f in all_filenames ]).drop_duplicates().reset_index(drop=True)\n",
    "\n",
    "    #export to csv: encoding = ‘utf-8-sig’ is added to overcome the issue when exporting ‘Non-English’ languages.\n",
    "    combined_csv.to_csv(output, index=False, encoding='utf-8-sig')"
   ]
  },
  {
   "cell_type": "code",
   "execution_count": null,
   "metadata": {},
   "outputs": [],
   "source": [
    "def addColumn(data, output=\"dataset.csv\",  accession_code=None, protein_length=None, antigen_presenting_protein=None): \n",
    "    \"\"\"\n",
    "    * Reads combined dataset and these columns into existing combined dataset.\n",
    "    * Params: data - Dataset that takes as an input\n",
    "    * Params: output - Save the dataset as .csv format \n",
    "    * Params: accession_code - A column name of the dataset that contains sequence accession code. \n",
    "    * Params: protein_lenght - A column name of the dataset that contains the protein sequence length. \n",
    "    * Params: antigent_presenting_protein - A column name of the dataet that presents the antigent presenting protein MHC-I or MHC-II\n",
    "    \"\"\" \n",
    "    df = pd.read_csv(data)\n",
    "    df['accession_code'] = [accession_code] * df.shape[0] \n",
    "    df['protein_length'] = [protein_length] * df.shape[0]  \n",
    "    df['antigen_presenting_protein'] = [antigen_presenting_protein] * df.shape[0] \n",
    "    df = df.to_csv(output, index=False)\n",
    "    return df   "
   ]
  }
 ],
 "metadata": {
  "kernelspec": {
   "display_name": "Python 3",
   "language": "python",
   "name": "python3"
  },
  "language_info": {
   "codemirror_mode": {
    "name": "ipython",
    "version": 3
   },
   "file_extension": ".py",
   "mimetype": "text/x-python",
   "name": "python",
   "nbconvert_exporter": "python",
   "pygments_lexer": "ipython3",
   "version": "3.7.4"
  },
  "latex_envs": {
   "LaTeX_envs_menu_present": true,
   "autoclose": false,
   "autocomplete": true,
   "bibliofile": "biblio.bib",
   "cite_by": "apalike",
   "current_citInitial": 1,
   "eqLabelWithNumbers": true,
   "eqNumInitial": 1,
   "hotkeys": {
    "equation": "Ctrl-E",
    "itemize": "Ctrl-I"
   },
   "labels_anchors": false,
   "latex_user_defs": false,
   "report_style_numbering": false,
   "user_envs_cfg": false
  }
 },
 "nbformat": 4,
 "nbformat_minor": 4
}

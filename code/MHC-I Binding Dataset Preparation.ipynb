{
 "cells": [
  {
   "cell_type": "markdown",
   "metadata": {},
   "source": [
    "# MHC-I Binding Dataset Preparation"
   ]
  },
  {
   "cell_type": "markdown",
   "metadata": {},
   "source": [
    "## Import Libraries "
   ]
  },
  {
   "cell_type": "code",
   "execution_count": 27,
   "metadata": {},
   "outputs": [],
   "source": [
    "import os\n",
    "import glob\n",
    "import pandas as pd\n",
    "# set directory \n",
    "os.chdir(\"../raw_data/\")\n",
    "# https://www.freecodecamp.org/news/how-to-combine-multiple-csv-files-with-8-lines-of-code-265183e0854/ "
   ]
  },
  {
   "cell_type": "code",
   "execution_count": 28,
   "metadata": {},
   "outputs": [],
   "source": [
    "# extensions and all files \n",
    "extension = 'csv'\n",
    "all_filenames = [i for i in glob.glob('*.{}'.format(extension))]"
   ]
  },
  {
   "cell_type": "code",
   "execution_count": 29,
   "metadata": {},
   "outputs": [
    {
     "name": "stdout",
     "output_type": "stream",
     "text": [
      "['result (1).csv', 'combined_csv.csv', 'result.csv']\n"
     ]
    }
   ],
   "source": [
    "print(all_filenames)"
   ]
  },
  {
   "cell_type": "code",
   "execution_count": 30,
   "metadata": {},
   "outputs": [],
   "source": [
    "# combining datasets \n",
    "combined_csv = pd.concat([pd.read_csv(f) for f in all_filenames ])\n",
    "\n",
    "#export to csv: encoding = ‘utf-8-sig’ is added to overcome the issue when exporting ‘Non-English’ languages.\n",
    "combined_csv.to_csv( \"MHC-I.csv\", index=False, encoding='utf-8-sig')"
   ]
  },
  {
   "cell_type": "markdown",
   "metadata": {},
   "source": [
    "## Read Combined Data "
   ]
  },
  {
   "cell_type": "code",
   "execution_count": 33,
   "metadata": {},
   "outputs": [],
   "source": [
    "df = pd.read_csv('MHC-I.csv')"
   ]
  },
  {
   "cell_type": "code",
   "execution_count": 34,
   "metadata": {},
   "outputs": [
    {
     "data": {
      "text/html": [
       "<div>\n",
       "<style scoped>\n",
       "    .dataframe tbody tr th:only-of-type {\n",
       "        vertical-align: middle;\n",
       "    }\n",
       "\n",
       "    .dataframe tbody tr th {\n",
       "        vertical-align: top;\n",
       "    }\n",
       "\n",
       "    .dataframe thead th {\n",
       "        text-align: right;\n",
       "    }\n",
       "</style>\n",
       "<table border=\"1\" class=\"dataframe\">\n",
       "  <thead>\n",
       "    <tr style=\"text-align: right;\">\n",
       "      <th></th>\n",
       "      <th>allele</th>\n",
       "      <th>seq_num</th>\n",
       "      <th>start</th>\n",
       "      <th>end</th>\n",
       "      <th>length</th>\n",
       "      <th>peptide</th>\n",
       "      <th>core</th>\n",
       "      <th>icore</th>\n",
       "      <th>score</th>\n",
       "      <th>rank</th>\n",
       "    </tr>\n",
       "  </thead>\n",
       "  <tbody>\n",
       "    <tr>\n",
       "      <th>0</th>\n",
       "      <td>HLA-A*01:01</td>\n",
       "      <td>1</td>\n",
       "      <td>170</td>\n",
       "      <td>178</td>\n",
       "      <td>9</td>\n",
       "      <td>TSEIQLTDY</td>\n",
       "      <td>TSEIQLTDY</td>\n",
       "      <td>TSEIQLTDY</td>\n",
       "      <td>0.933967</td>\n",
       "      <td>0.02</td>\n",
       "    </tr>\n",
       "    <tr>\n",
       "      <th>1</th>\n",
       "      <td>HLA-A*02:01</td>\n",
       "      <td>1</td>\n",
       "      <td>424</td>\n",
       "      <td>432</td>\n",
       "      <td>9</td>\n",
       "      <td>SIGGVFTSV</td>\n",
       "      <td>SIGGVFTSV</td>\n",
       "      <td>SIGGVFTSV</td>\n",
       "      <td>0.697219</td>\n",
       "      <td>0.13</td>\n",
       "    </tr>\n",
       "    <tr>\n",
       "      <th>2</th>\n",
       "      <td>HLA-A*02:01</td>\n",
       "      <td>1</td>\n",
       "      <td>200</td>\n",
       "      <td>208</td>\n",
       "      <td>9</td>\n",
       "      <td>TMKEKSWLV</td>\n",
       "      <td>TMKEKSWLV</td>\n",
       "      <td>TMKEKSWLV</td>\n",
       "      <td>0.676498</td>\n",
       "      <td>0.15</td>\n",
       "    </tr>\n",
       "    <tr>\n",
       "      <th>3</th>\n",
       "      <td>HLA-A*02:01</td>\n",
       "      <td>1</td>\n",
       "      <td>431</td>\n",
       "      <td>439</td>\n",
       "      <td>9</td>\n",
       "      <td>SVGKLVHQV</td>\n",
       "      <td>SVGKLVHQV</td>\n",
       "      <td>SVGKLVHQV</td>\n",
       "      <td>0.630641</td>\n",
       "      <td>0.17</td>\n",
       "    </tr>\n",
       "    <tr>\n",
       "      <th>4</th>\n",
       "      <td>HLA-A*01:01</td>\n",
       "      <td>1</td>\n",
       "      <td>124</td>\n",
       "      <td>132</td>\n",
       "      <td>9</td>\n",
       "      <td>KLEGKIVQY</td>\n",
       "      <td>KLEGKIVQY</td>\n",
       "      <td>KLEGKIVQY</td>\n",
       "      <td>0.613667</td>\n",
       "      <td>0.13</td>\n",
       "    </tr>\n",
       "  </tbody>\n",
       "</table>\n",
       "</div>"
      ],
      "text/plain": [
       "        allele  seq_num  start  end  length    peptide       core      icore  \\\n",
       "0  HLA-A*01:01        1    170  178       9  TSEIQLTDY  TSEIQLTDY  TSEIQLTDY   \n",
       "1  HLA-A*02:01        1    424  432       9  SIGGVFTSV  SIGGVFTSV  SIGGVFTSV   \n",
       "2  HLA-A*02:01        1    200  208       9  TMKEKSWLV  TMKEKSWLV  TMKEKSWLV   \n",
       "3  HLA-A*02:01        1    431  439       9  SVGKLVHQV  SVGKLVHQV  SVGKLVHQV   \n",
       "4  HLA-A*01:01        1    124  132       9  KLEGKIVQY  KLEGKIVQY  KLEGKIVQY   \n",
       "\n",
       "      score  rank  \n",
       "0  0.933967  0.02  \n",
       "1  0.697219  0.13  \n",
       "2  0.676498  0.15  \n",
       "3  0.630641  0.17  \n",
       "4  0.613667  0.13  "
      ]
     },
     "execution_count": 34,
     "metadata": {},
     "output_type": "execute_result"
    }
   ],
   "source": [
    "df.head()"
   ]
  },
  {
   "cell_type": "code",
   "execution_count": 37,
   "metadata": {},
   "outputs": [
    {
     "data": {
      "text/plain": [
       "array(['TSEIQLTDY', 'SIGGVFTSV', 'TMKEKSWLV', 'SVGKLVHQV', 'KLEGKIVQY',\n",
       "       'GLFGKGSLL', 'WLVHKQWFL', 'RLITANPIV', 'IVQYENLKY', 'LTDYGALTL',\n",
       "       'GLNSRSTSL', 'GTVLVQVKY', 'GLDFNEMVL', 'FLDLPLPWT', 'QVFGTAYGV',\n",
       "       'TMAKNKPTL', 'VMCTGSFKL', 'IAVGMVTLY', 'VLFSGVSWT', 'LTLKGMSYV',\n",
       "       'GMVTLYLGV', 'TIATITPQA', 'SLSMTCIAV', 'VVLEHGSCV', 'KLTLKGMSY',\n",
       "       'TEPPFGESY', 'AMHTALTGA', 'SSIGKMFEA', 'KLVHQVFGT', 'KQWFLDLPL',\n",
       "       'QTSGTTTIF', 'TQNGRLITA', 'RLKMDKLTL', 'VTNPAVLRK', 'IQTSGTTTI',\n",
       "       'TTDSRCPTQ', 'AVGMVTLYL', 'KLEKEVAET', 'TLDIELLKT', 'ETQHGTVLV',\n",
       "       'LVEEQDANF', 'FTSVGKLVH', 'GVFTSVGKL', 'GILLTWLGL', 'TLKGMSYVM',\n",
       "       'VLRKLCIEA', 'ETEPPFGES', 'KMFEATARG', 'TTEHGTIAT', 'SQEGAMHTA',\n",
       "       'ETWNRQDLL', 'KTEVTNPAV', 'CIAVGMVTL', 'IVTDKEKPV', 'ILGDTAWDF',\n",
       "       'EQDANFVCR', 'STSQETWNR', 'TIFAGHLKC', 'PTLDIELLK', 'SMTCIAVGM',\n",
       "       'CSPRTGLDF', 'TTIFAGHLK', 'FNEMVLLTM', 'VTLYLGVMV', 'NSRSTSLSM',\n",
       "       'RQDLLVTFK', 'RMAILGDTA', 'LKYSVIVTV', 'VHQVFGTAY', 'GASTSQETW',\n",
       "       'VTVHTGDQH', 'WTMKIGIGI', 'TQDEKGVTQ', 'VQYENLKYS', 'GAGEKALKL',\n",
       "       'ATARGARRM', 'GSFKLEKEV', 'RTGLDFNEM', 'VTDKEKPVN', 'VVLGSQEGA',\n",
       "       'TGLDFNEMV', 'VTFKTAHAK', 'CTGSFKLEK', 'DLLVTFKTA', 'ATEIQTSGT',\n",
       "       'GIGILLTWL', 'QLTDYGALT', 'TANPIVTDK', 'VSWTMKIGI', 'ISNTTTDSR',\n",
       "       'NLKYSVIVT', 'FSGVSWTMK', 'LFSGVSWTM', 'STSLSMTCI', 'LLKTEVTNP',\n",
       "       'PTQGEATLV', 'SWFKRGSSI', 'IVVGAGEKA', 'TMKIGIGIL', 'TSGTTTIFA',\n",
       "       'GEKALKLSW', 'MAILGDTAW', 'ETTEHGTIA', 'TLYLGVMVQ', 'QVGNETTEH',\n",
       "       'GTTTIFAGH', 'KIGIGILLT', 'LYLGVMVQA', 'VLGSQEGAM', 'QAPTSEIQL',\n",
       "       'NRQDLLVTF', 'LVHQVFGTA', 'IQLTDYGAL', 'TDAPCKIPF', 'VAETQHGTV',\n",
       "       'TSQETWNRQ', 'WTSGASTSQ', 'TTTIFAGHL', 'TALTGATEI', 'ATITPQAPT',\n",
       "       'TAHAKKQEV', 'EVTNPAVLR', 'FGTAYGVLF', 'VVGAGEKAL', 'SGVSWTMKI',\n",
       "       'LTMKEKSWL', 'GATWVDVVL', 'SGATWVDVV', 'HAKKQEVVV', 'TPQAPTSEI',\n",
       "       'YVMCTGSFK', 'DIELLKTEV', 'LVTFKTAHA', 'GSLLTCAKF', 'FGKGSLLTC',\n",
       "       'TDKEKPVNI', 'DFGSIGGVF', 'KSWLVHKQW', 'GVLFSGVSW', 'MKIGIGILL',\n",
       "       'SIGKMFEAT', 'RGWGNGCGL', 'AETQHGTVL', 'GSQEGAMHT', 'RGSSIGKMF',\n",
       "       'ITPQAPTSE', 'GTAYGVLFS', 'LDFNEMVLL', 'GSCVTTMAK', 'GSIGGVFTS',\n",
       "       'QDANFVCRR', 'GTDAPCKIP', 'KMDKLTLKG', 'VEGLSGATW', 'IPFSTQDEK',\n",
       "       'AKFKCVTKL', 'DTAWDFGSI', 'TEHGTIATI', 'KALKLSWFK', 'KEKSWLVHK',\n",
       "       'TWVDVVLEH', 'WFLDLPLPW', 'MDKLTLKGM', 'VLVQVKYEG', 'LTWLGLNSR',\n",
       "       'HTALTGATE', 'FSTQDEKGV', 'VLLTMKEKS', 'TWNRQDLLV', 'LLTMKEKSW',\n",
       "       'VHTGDQHQV', 'VTQNGRLIT', 'VGKLVHQVF', 'YENLKYSVI', 'IGIGILLTW',\n",
       "       'RSTSLSMTC', 'LTLDCSPRT', 'WLGLNSRST', 'VFTSVGKLV', 'LLTWLGLNS',\n",
       "       'MTCIAVGMV', 'LLTCAKFKC', 'TSLSMTCIA', 'YSVIVTVHT', 'WVDVVLEHG',\n",
       "       'VLEHGSCVT', 'EVAETQHGT', 'GVTQNGRLI', 'FVDRGWGNG', 'TEVTNPAVL',\n",
       "       'FVEGLSGAT', 'STQDEKGVT', 'QHGTVLVQV', 'TSGASTSQE', 'LGSQEGAMH',\n",
       "       'VGIGNRDFV', 'FAGHLKCRL', 'TGDQHQVGN', 'TNPAVLRKL', 'QYENLKYSV',\n",
       "       'AKKQEVVVL', 'KPTLDIELL', 'EHGSCVTTM', 'VEEQDANFV', 'TSVGKLVHQ',\n",
       "       'AHAKKQEVV', 'TITPQAPTS', 'QEGAMHTAL', 'LDCSPRTGL', 'LITANPIVT',\n",
       "       'KYSVIVTVH', 'TLDCSPRTG', 'GNRDFVEGL', 'ANFVCRRTF', 'DFVEGLSGA',\n",
       "       'ATLVEEQDA', 'CVGIGNRDF', 'ATWVDVVLE', 'LLVTFKTAH', 'LTCAKFKCV',\n",
       "       'VNIETEPPF', 'IEAKISNTT', 'CPTQGEATL', 'SWLVHKQWF', 'KEKPVNIET',\n",
       "       'ITANPIVTD', 'KLSWFKRGS', 'YEGTDAPCK', 'VTKLEGKIV', 'SVIVTVHTG',\n",
       "       'EATARGARR', 'EIQTSGTTT', 'HTGDQHQVG', 'YIVVGAGEK', 'QWFLDLPLP',\n",
       "       'FEATARGAR', 'NEMVLLTMK', 'WDFGSIGGV', 'SGASTSQET', 'VGAGEKALK',\n",
       "       'CIEAKISNT', 'LTGATEIQT', 'DFNEMVLLT', 'EGTDAPCKI', 'EKALKLSWF',\n",
       "       'ALKLSWFKR', 'PTSEIQLTD', 'QETWNRQDL', 'MKEKSWLVH', 'LPLPWTSGA',\n",
       "       'ALTGATEIQ', 'TVHTGDQHQ', 'NKPTLDIEL', 'HGTVLVQVK', 'ENLKYSVIV',\n",
       "       'EGLSGATWV', 'TQHGTVLVQ', 'KIVQYENLK', 'KRGSSIGKM', 'GHLKCRLKM',\n",
       "       'APCKIPFST', 'EGAMHTALT', 'GLSGATWVD', 'EIQLTDYGA', 'TGATEIQTS',\n",
       "       'NETTEHGTI', 'MVTLYLGVM', 'NIETEPPFG', 'SYVMCTGSF', 'VTTMAKNKP',\n",
       "       'RGARRMAIL', 'LDLPLPWTS', 'LSGATWVDV', 'AYGVLFSGV', 'APTSEIQLT',\n",
       "       'MFEATARGA', 'ARGARRMAI', 'TQGEATLVE', 'GWGNGCGLF', 'VHKQWFLDL',\n",
       "       'SLLTCAKFK', 'TTTDSRCPT', 'GTIATITPQ', 'MVLLTMKEK', 'KGMSYVMCT',\n",
       "       'GSSIGKMFE', 'IGKMFEATA', 'CVTKLEGKI', 'LEKEVAETQ', 'EAKISNTTT',\n",
       "       'CAKFKCVTK', 'GESYIVVGA', 'LKMDKLTLK', 'AKNKPTLDI', 'KCRLKMDKL',\n",
       "       'DSRCPTQGE', 'TARGARRMA', 'HGSCVTTMA', 'IATITPQAP', 'LFGKGSLLT',\n",
       "       'EPPFGESYI', 'QDLLVTFKT', 'TTMAKNKPT', 'TAYGVLFSG', 'QGEATLVEE',\n",
       "       'FGSIGGVFT', 'LNSRSTSLS', 'NTTTDSRCP', 'HQVGNETTE', 'DQHQVGNET',\n",
       "       'GEATLVEEQ', 'TEIQTSGTT', 'KQEVVVLGS', 'TCIAVGMVT', 'QVKYEGTDA',\n",
       "       'KGSLLTCAK', 'GGVFTSVGK', 'PQAPTSEIQ', 'ALTLDCSPR', 'SFKLEKEVA',\n",
       "       'LSWFKRGSS', 'KLCIEAKIS', 'TFKTAHAKK', 'GMSYVMCTG', 'LVQVKYEGT',\n",
       "       'DAPCKIPFS', 'KGVTQNGRL', 'DANFVCRRT', 'IFAGHLKCR', 'EMVLLTMKE',\n",
       "       'EKEVAETQH', 'PPFGESYIV', 'SRCPTQGEA', 'AWDFGSIGG', 'CVTTMAKNK',\n",
       "       'TVLVQVKYE', 'KTAHAKKQE', 'TAWDFGSIG', 'QDEKGVTQN', 'IELLKTEVT',\n",
       "       'ASTSQETWN', 'LPWTSGAST', 'HGTIATITP', 'QHQVGNETT', 'MAKNKPTLD',\n",
       "       'RRTFVDRGW', 'DVVLEHGSC', 'KPVNIETEP', 'KIPFSTQDE', 'ELLKTEVTN',\n",
       "       'TLVEEQDAN', 'KISNTTTDS', 'GKIVQYENL', 'TDSRCPTQG', 'AGHLKCRLK',\n",
       "       'PFGESYIVV', 'YGALTLDCS', 'ILLTWLGLN', 'VDRGWGNGC', 'AGEKALKLS',\n",
       "       'MSYVMCTGS', 'EGKIVQYEN', 'GRLITANPI', 'DLPLPWTSG', 'LEGKIVQYE',\n",
       "       'GKMFEATAR', 'TGSFKLEKE', 'EVVVLGSQE', 'IVTVHTGDQ', 'VFGTAYGVL',\n",
       "       'GNETTEHGT', 'ANPIVTDKE', 'LEHGSCVTT', 'EEQDANFVC', 'SRSTSLSMT',\n",
       "       'NFVCRRTFV', 'GAMHTALTG', 'GNGCGLFGK', 'RDFVEGLSG', 'VVVLGSQEG',\n",
       "       'DYGALTLDC', 'SEIQLTDYG', 'NRDFVEGLS', 'EKSWLVHKQ', 'PAVLRKLCI',\n",
       "       'KCVTKLEGK', 'AVLRKLCIE', 'ESYIVVGAG', 'FKLEKEVAE', 'KYEGTDAPC',\n",
       "       'IETEPPFGE', 'PCKIPFSTQ', 'LGDTAWDFG', 'SNTTTDSRC', 'FGESYIVVG',\n",
       "       'HQVFGTAYG', 'WNRQDLLVT', 'TCAKFKCVT', 'GATEIQTSG', 'NPIVTDKEK',\n",
       "       'FKRGSSIGK', 'NGRLITANP', 'CGLFGKGSL', 'EHGTIATIT', 'SQETWNRQD',\n",
       "       'NPAVLRKLC', 'PVNIETEPP', 'QEVVVLGSQ', 'TDYGALTLD', 'VGNETTEHG',\n",
       "       'LDIELLKTE', 'VCRRTFVDR', 'VKYEGTDAP', 'MRCVGIGNR', 'LSMTCIAVG',\n",
       "       'RKLCIEAKI', 'KNKPTLDIE', 'MCTGSFKLE', 'MHTALTGAT', 'LVHKQWFLD',\n",
       "       'LKTEVTNPA', 'RCPTQGEAT', 'SGTTTIFAG', 'LGLNSRSTS', 'GALTLDCSP',\n",
       "       'KEVAETQHG', 'EKGVTQNGR', 'HKQWFLDLP', 'AILGDTAWD', 'IGNRDFVEG',\n",
       "       'GIGNRDFVE', 'QNGRLITAN', 'WGNGCGLFG', 'VDVVLEHGS', 'YGVLFSGVS',\n",
       "       'SPRTGLDFN', 'TKLEGKIVQ', 'RTFVDRGWG', 'LCIEAKISN', 'GKGSLLTCA',\n",
       "       'PIVTDKEKP', 'PLPWTSGAS', 'TWLGLNSRS', 'DEKGVTQNG', 'SCVTTMAKN',\n",
       "       'GARRMAILG', 'TFVDRGWGN', 'WFKRGSSIG', 'VIVTVHTGD', 'KKQEVVVLG',\n",
       "       'DCSPRTGLD', 'VGMVTLYLG', 'LRKLCIEAK', 'EKPVNIETE', 'SYIVVGAGE',\n",
       "       'EATLVEEQD', 'IGILLTWLG', 'GVSWTMKIG', 'IGGVFTSVG', 'LKCRLKMDK',\n",
       "       'GDQHQVGNE', 'FVCRRTFVD', 'RRMAILGDT', 'DKEKPVNIE', 'FKTAHAKKQ',\n",
       "       'KFKCVTKLE', 'LKGMSYVMC', 'GDTAWDFGS', 'FKCVTKLEG', 'NGCGLFGKG',\n",
       "       'RCVGIGNRD', 'PWTSGASTS', 'CRLKMDKLT', 'VQVKYEGTD', 'HLKCRLKMD',\n",
       "       'AKISNTTTD', 'GCGLFGKGS', 'SWTMKIGIG', 'PFSTQDEKG', 'DRGWGNGCG',\n",
       "       'CKIPFSTQD', 'GKLVHQVFG', 'ARRMAILGD', 'LKLSWFKRG', 'DKLTLKGMS',\n",
       "       'PRTGLDFNE', 'CRRTFVDRG', 'VAVGMVTLY', 'SLSMTCVAV', 'CVAVGMVTL',\n",
       "       'SMTCVAVGM', 'STSLSMTCV', 'TSLSMTCVA', 'MTCVAVGMV', 'TCVAVGMVT',\n",
       "       'LSMTCVAVG'], dtype=object)"
      ]
     },
     "execution_count": 37,
     "metadata": {},
     "output_type": "execute_result"
    }
   ],
   "source": [
    "df.peptide.unique()"
   ]
  },
  {
   "cell_type": "code",
   "execution_count": 38,
   "metadata": {},
   "outputs": [
    {
     "data": {
      "text/plain": [
       "PRTGLDFNE    8\n",
       "RCPTQGEAT    8\n",
       "KEKSWLVHK    8\n",
       "LVEEQDANF    8\n",
       "TFKTAHAKK    8\n",
       "            ..\n",
       "VAVGMVTLY    4\n",
       "STSLSMTCI    4\n",
       "TCVAVGMVT    4\n",
       "SLSMTCIAV    4\n",
       "SLSMTCVAV    4\n",
       "Name: peptide, Length: 496, dtype: int64"
      ]
     },
     "execution_count": 38,
     "metadata": {},
     "output_type": "execute_result"
    }
   ],
   "source": [
    "df.peptide.value_counts() "
   ]
  },
  {
   "cell_type": "code",
   "execution_count": 39,
   "metadata": {},
   "outputs": [
    {
     "data": {
      "text/plain": [
       "(3896, 10)"
      ]
     },
     "execution_count": 39,
     "metadata": {},
     "output_type": "execute_result"
    }
   ],
   "source": [
    "df.shape"
   ]
  },
  {
   "cell_type": "code",
   "execution_count": 40,
   "metadata": {},
   "outputs": [
    {
     "data": {
      "text/plain": [
       "1950"
      ]
     },
     "execution_count": 40,
     "metadata": {},
     "output_type": "execute_result"
    }
   ],
   "source": [
    "975+975"
   ]
  }
 ],
 "metadata": {
  "kernelspec": {
   "display_name": "Python 3",
   "language": "python",
   "name": "python3"
  },
  "language_info": {
   "codemirror_mode": {
    "name": "ipython",
    "version": 3
   },
   "file_extension": ".py",
   "mimetype": "text/x-python",
   "name": "python",
   "nbconvert_exporter": "python",
   "pygments_lexer": "ipython3",
   "version": "3.7.4"
  },
  "latex_envs": {
   "LaTeX_envs_menu_present": true,
   "autoclose": false,
   "autocomplete": true,
   "bibliofile": "biblio.bib",
   "cite_by": "apalike",
   "current_citInitial": 1,
   "eqLabelWithNumbers": true,
   "eqNumInitial": 1,
   "hotkeys": {
    "equation": "Ctrl-E",
    "itemize": "Ctrl-I"
   },
   "labels_anchors": false,
   "latex_user_defs": false,
   "report_style_numbering": false,
   "user_envs_cfg": false
  }
 },
 "nbformat": 4,
 "nbformat_minor": 4
}

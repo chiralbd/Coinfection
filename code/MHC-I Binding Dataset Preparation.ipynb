{
 "cells": [
  {
   "cell_type": "markdown",
   "metadata": {},
   "source": [
    "# MHC-I Binding Dataset Preparation"
   ]
  },
  {
   "cell_type": "markdown",
   "metadata": {},
   "source": [
    "## Import Libraries "
   ]
  },
  {
   "cell_type": "code",
   "execution_count": 1,
   "metadata": {},
   "outputs": [],
   "source": [
    "import os\n",
    "import glob\n",
    "import pandas as pd\n",
    "# set directory \n",
    "os.chdir(\"../mhc-i/\")\n",
    "# https://www.freecodecamp.org/news/how-to-combine-multiple-csv-files-with-8-lines-of-code-265183e0854/ "
   ]
  },
  {
   "cell_type": "code",
   "execution_count": 2,
   "metadata": {},
   "outputs": [],
   "source": [
    "# extensions and all files \n",
    "extension = 'csv'\n",
    "all_filenames = [i for i in glob.glob('*.{}'.format(extension))]"
   ]
  },
  {
   "cell_type": "code",
   "execution_count": 3,
   "metadata": {},
   "outputs": [
    {
     "name": "stdout",
     "output_type": "stream",
     "text": [
      "['result (1).csv', 'result.csv']\n"
     ]
    }
   ],
   "source": [
    "print(all_filenames)"
   ]
  },
  {
   "cell_type": "code",
   "execution_count": 4,
   "metadata": {},
   "outputs": [],
   "source": [
    "# combining datasets \n",
    "combined_csv = pd.concat([pd.read_csv(f) for f in all_filenames ])\n",
    "\n",
    "#export to csv: encoding = ‘utf-8-sig’ is added to overcome the issue when exporting ‘Non-English’ languages.\n",
    "combined_csv.to_csv( \"MHC-I.csv\", index=False, encoding='utf-8-sig')"
   ]
  },
  {
   "cell_type": "markdown",
   "metadata": {},
   "source": [
    "## Read Combined Data "
   ]
  },
  {
   "cell_type": "code",
   "execution_count": 5,
   "metadata": {},
   "outputs": [],
   "source": [
    "df = pd.read_csv('MHC-I.csv')"
   ]
  },
  {
   "cell_type": "code",
   "execution_count": 6,
   "metadata": {},
   "outputs": [
    {
     "data": {
      "text/html": [
       "<div>\n",
       "<style scoped>\n",
       "    .dataframe tbody tr th:only-of-type {\n",
       "        vertical-align: middle;\n",
       "    }\n",
       "\n",
       "    .dataframe tbody tr th {\n",
       "        vertical-align: top;\n",
       "    }\n",
       "\n",
       "    .dataframe thead th {\n",
       "        text-align: right;\n",
       "    }\n",
       "</style>\n",
       "<table border=\"1\" class=\"dataframe\">\n",
       "  <thead>\n",
       "    <tr style=\"text-align: right;\">\n",
       "      <th></th>\n",
       "      <th>allele</th>\n",
       "      <th>seq_num</th>\n",
       "      <th>start</th>\n",
       "      <th>end</th>\n",
       "      <th>length</th>\n",
       "      <th>peptide</th>\n",
       "      <th>core</th>\n",
       "      <th>icore</th>\n",
       "      <th>score</th>\n",
       "      <th>rank</th>\n",
       "    </tr>\n",
       "  </thead>\n",
       "  <tbody>\n",
       "    <tr>\n",
       "      <th>0</th>\n",
       "      <td>HLA-A*01:01</td>\n",
       "      <td>1</td>\n",
       "      <td>170</td>\n",
       "      <td>178</td>\n",
       "      <td>9</td>\n",
       "      <td>TSEIQLTDY</td>\n",
       "      <td>TSEIQLTDY</td>\n",
       "      <td>TSEIQLTDY</td>\n",
       "      <td>0.933967</td>\n",
       "      <td>0.02</td>\n",
       "    </tr>\n",
       "    <tr>\n",
       "      <th>1</th>\n",
       "      <td>HLA-A*02:01</td>\n",
       "      <td>1</td>\n",
       "      <td>424</td>\n",
       "      <td>432</td>\n",
       "      <td>9</td>\n",
       "      <td>SIGGVFTSV</td>\n",
       "      <td>SIGGVFTSV</td>\n",
       "      <td>SIGGVFTSV</td>\n",
       "      <td>0.697219</td>\n",
       "      <td>0.13</td>\n",
       "    </tr>\n",
       "    <tr>\n",
       "      <th>2</th>\n",
       "      <td>HLA-A*02:01</td>\n",
       "      <td>1</td>\n",
       "      <td>200</td>\n",
       "      <td>208</td>\n",
       "      <td>9</td>\n",
       "      <td>TMKEKSWLV</td>\n",
       "      <td>TMKEKSWLV</td>\n",
       "      <td>TMKEKSWLV</td>\n",
       "      <td>0.676498</td>\n",
       "      <td>0.15</td>\n",
       "    </tr>\n",
       "    <tr>\n",
       "      <th>3</th>\n",
       "      <td>HLA-A*02:01</td>\n",
       "      <td>1</td>\n",
       "      <td>431</td>\n",
       "      <td>439</td>\n",
       "      <td>9</td>\n",
       "      <td>SVGKLVHQV</td>\n",
       "      <td>SVGKLVHQV</td>\n",
       "      <td>SVGKLVHQV</td>\n",
       "      <td>0.630641</td>\n",
       "      <td>0.17</td>\n",
       "    </tr>\n",
       "    <tr>\n",
       "      <th>4</th>\n",
       "      <td>HLA-A*01:01</td>\n",
       "      <td>1</td>\n",
       "      <td>124</td>\n",
       "      <td>132</td>\n",
       "      <td>9</td>\n",
       "      <td>KLEGKIVQY</td>\n",
       "      <td>KLEGKIVQY</td>\n",
       "      <td>KLEGKIVQY</td>\n",
       "      <td>0.613667</td>\n",
       "      <td>0.13</td>\n",
       "    </tr>\n",
       "  </tbody>\n",
       "</table>\n",
       "</div>"
      ],
      "text/plain": [
       "        allele  seq_num  start  end  length    peptide       core      icore  \\\n",
       "0  HLA-A*01:01        1    170  178       9  TSEIQLTDY  TSEIQLTDY  TSEIQLTDY   \n",
       "1  HLA-A*02:01        1    424  432       9  SIGGVFTSV  SIGGVFTSV  SIGGVFTSV   \n",
       "2  HLA-A*02:01        1    200  208       9  TMKEKSWLV  TMKEKSWLV  TMKEKSWLV   \n",
       "3  HLA-A*02:01        1    431  439       9  SVGKLVHQV  SVGKLVHQV  SVGKLVHQV   \n",
       "4  HLA-A*01:01        1    124  132       9  KLEGKIVQY  KLEGKIVQY  KLEGKIVQY   \n",
       "\n",
       "      score  rank  \n",
       "0  0.933967  0.02  \n",
       "1  0.697219  0.13  \n",
       "2  0.676498  0.15  \n",
       "3  0.630641  0.17  \n",
       "4  0.613667  0.13  "
      ]
     },
     "execution_count": 6,
     "metadata": {},
     "output_type": "execute_result"
    }
   ],
   "source": [
    "df.head()"
   ]
  }
 ],
 "metadata": {
  "kernelspec": {
   "display_name": "Python 3",
   "language": "python",
   "name": "python3"
  },
  "language_info": {
   "codemirror_mode": {
    "name": "ipython",
    "version": 3
   },
   "file_extension": ".py",
   "mimetype": "text/x-python",
   "name": "python",
   "nbconvert_exporter": "python",
   "pygments_lexer": "ipython3",
   "version": "3.7.4"
  },
  "latex_envs": {
   "LaTeX_envs_menu_present": true,
   "autoclose": false,
   "autocomplete": true,
   "bibliofile": "biblio.bib",
   "cite_by": "apalike",
   "current_citInitial": 1,
   "eqLabelWithNumbers": true,
   "eqNumInitial": 1,
   "hotkeys": {
    "equation": "Ctrl-E",
    "itemize": "Ctrl-I"
   },
   "labels_anchors": false,
   "latex_user_defs": false,
   "report_style_numbering": false,
   "user_envs_cfg": false
  }
 },
 "nbformat": 4,
 "nbformat_minor": 4
}

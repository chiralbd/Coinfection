{
 "cells": [
  {
   "cell_type": "markdown",
   "metadata": {},
   "source": [
    "# MHC-I Binding Dataset Preparation"
   ]
  },
  {
   "cell_type": "markdown",
   "metadata": {},
   "source": [
    "## Import Libraries "
   ]
  },
  {
   "cell_type": "code",
   "execution_count": 64,
   "metadata": {},
   "outputs": [],
   "source": [
    "import os\n",
    "import glob\n",
    "import pandas as pd\n",
    "# set directory \n",
    "os.chdir(\"../mhc-i/\")"
   ]
  },
  {
   "cell_type": "code",
   "execution_count": 65,
   "metadata": {},
   "outputs": [],
   "source": [
    "# extensions and all files \n",
    "extension = 'xlsx' \n",
    "all_filenames = [i for i in glob.glob('*.{}'.format(extension))]"
   ]
  },
  {
   "cell_type": "code",
   "execution_count": 66,
   "metadata": {},
   "outputs": [
    {
     "name": "stdout",
     "output_type": "stream",
     "text": [
      "['MT862867.xlsx', 'MN959478.xlsx', 'MN959470.xlsx', 'MN959479.xlsx', 'MT862868.xlsx', 'MT862869.xlsx', 'MT862855.xlsx', 'MN959474.xlsx', 'MT862859.xlsx', 'MN239505.xlsx', 'MN959471.xlsx', 'MN959475.xlsx', 'MN959477.xlsx', 'MT862860.xlsx', 'MN959473.xlsx', 'MN959467.xlsx', 'MN959480.xlsx', 'MN959483.xlsx', 'MN959468.xlsx', 'MT862870.xlsx', 'MT872635.xlsx', 'MT862858.xlsx', 'MN959472.xlsx', 'MN959482.xlsx', 'MT862866.xlsx', ' MN560056.xlsx', 'MN959476.xlsx', 'MT872516.xlsx', 'MN959481.xlsx']\n"
     ]
    }
   ],
   "source": [
    "print(all_filenames)"
   ]
  },
  {
   "cell_type": "code",
   "execution_count": 70,
   "metadata": {},
   "outputs": [
    {
     "data": {
      "text/plain": [
       "29"
      ]
     },
     "execution_count": 70,
     "metadata": {},
     "output_type": "execute_result"
    }
   ],
   "source": [
    "# No. of files \n",
    "len(all_filenames)"
   ]
  },
  {
   "cell_type": "code",
   "execution_count": 72,
   "metadata": {},
   "outputs": [],
   "source": [
    "# combining datasets \n",
    "combined_csv = pd.concat([pd.read_excel(f) for f in all_filenames ], ignore_index=True)\n",
    "\n",
    "#export to csv: encoding = ‘utf-8-sig’ is added to overcome the issue when exporting ‘Non-English’ languages.\n",
    "combined_csv.to_csv(\"../cleaned_data/MHC-I.csv\", index=False, encoding='utf-8-sig')"
   ]
  },
  {
   "cell_type": "markdown",
   "metadata": {},
   "source": [
    "## Read Combined Data "
   ]
  },
  {
   "cell_type": "code",
   "execution_count": 73,
   "metadata": {},
   "outputs": [],
   "source": [
    "df = pd.read_csv(\"../cleaned_data/MHC-I.csv\")"
   ]
  },
  {
   "cell_type": "code",
   "execution_count": 74,
   "metadata": {},
   "outputs": [
    {
     "data": {
      "text/html": [
       "<div>\n",
       "<style scoped>\n",
       "    .dataframe tbody tr th:only-of-type {\n",
       "        vertical-align: middle;\n",
       "    }\n",
       "\n",
       "    .dataframe tbody tr th {\n",
       "        vertical-align: top;\n",
       "    }\n",
       "\n",
       "    .dataframe thead th {\n",
       "        text-align: right;\n",
       "    }\n",
       "</style>\n",
       "<table border=\"1\" class=\"dataframe\">\n",
       "  <thead>\n",
       "    <tr style=\"text-align: right;\">\n",
       "      <th></th>\n",
       "      <th>accession_code</th>\n",
       "      <th>protein_length</th>\n",
       "      <th>antigen_presenting_protein</th>\n",
       "      <th>allele</th>\n",
       "      <th>seq_num</th>\n",
       "      <th>start</th>\n",
       "      <th>end</th>\n",
       "      <th>length</th>\n",
       "      <th>peptide</th>\n",
       "      <th>core</th>\n",
       "      <th>icore</th>\n",
       "      <th>score</th>\n",
       "      <th>rank</th>\n",
       "      <th>protein_length</th>\n",
       "      <th>acession_code</th>\n",
       "      <th>protein_lenght</th>\n",
       "      <th>antigen_presenting_prortein</th>\n",
       "      <th>antigen_presenting _protein</th>\n",
       "    </tr>\n",
       "  </thead>\n",
       "  <tbody>\n",
       "    <tr>\n",
       "      <th>0</th>\n",
       "      <td>MT862867</td>\n",
       "      <td>495.0</td>\n",
       "      <td>MHC-I</td>\n",
       "      <td>HLA-B*44:02</td>\n",
       "      <td>1</td>\n",
       "      <td>383</td>\n",
       "      <td>391</td>\n",
       "      <td>9</td>\n",
       "      <td>GEKALKLSW</td>\n",
       "      <td>GEKALKLSW</td>\n",
       "      <td>GEKALKLSW</td>\n",
       "      <td>0.966258</td>\n",
       "      <td>0.01</td>\n",
       "      <td>NaN</td>\n",
       "      <td>NaN</td>\n",
       "      <td>NaN</td>\n",
       "      <td>NaN</td>\n",
       "      <td>NaN</td>\n",
       "    </tr>\n",
       "    <tr>\n",
       "      <th>1</th>\n",
       "      <td>MT862867</td>\n",
       "      <td>495.0</td>\n",
       "      <td>MHC-I</td>\n",
       "      <td>HLA-B*44:02</td>\n",
       "      <td>1</td>\n",
       "      <td>12</td>\n",
       "      <td>20</td>\n",
       "      <td>9</td>\n",
       "      <td>VEGLSGATW</td>\n",
       "      <td>VEGLSGATW</td>\n",
       "      <td>VEGLSGATW</td>\n",
       "      <td>0.904180</td>\n",
       "      <td>0.03</td>\n",
       "      <td>NaN</td>\n",
       "      <td>NaN</td>\n",
       "      <td>NaN</td>\n",
       "      <td>NaN</td>\n",
       "      <td>NaN</td>\n",
       "    </tr>\n",
       "    <tr>\n",
       "      <th>2</th>\n",
       "      <td>MT862867</td>\n",
       "      <td>495.0</td>\n",
       "      <td>MHC-I</td>\n",
       "      <td>HLA-B*44:02</td>\n",
       "      <td>1</td>\n",
       "      <td>369</td>\n",
       "      <td>377</td>\n",
       "      <td>9</td>\n",
       "      <td>TEPPFGESY</td>\n",
       "      <td>TEPPFGESY</td>\n",
       "      <td>TEPPFGESY</td>\n",
       "      <td>0.781430</td>\n",
       "      <td>0.06</td>\n",
       "      <td>NaN</td>\n",
       "      <td>NaN</td>\n",
       "      <td>NaN</td>\n",
       "      <td>NaN</td>\n",
       "      <td>NaN</td>\n",
       "    </tr>\n",
       "    <tr>\n",
       "      <th>3</th>\n",
       "      <td>MT862867</td>\n",
       "      <td>495.0</td>\n",
       "      <td>MHC-I</td>\n",
       "      <td>HLA-B*44:02</td>\n",
       "      <td>1</td>\n",
       "      <td>313</td>\n",
       "      <td>321</td>\n",
       "      <td>9</td>\n",
       "      <td>AETQHGTVL</td>\n",
       "      <td>AETQHGTVL</td>\n",
       "      <td>AETQHGTVL</td>\n",
       "      <td>0.747154</td>\n",
       "      <td>0.08</td>\n",
       "      <td>NaN</td>\n",
       "      <td>NaN</td>\n",
       "      <td>NaN</td>\n",
       "      <td>NaN</td>\n",
       "      <td>NaN</td>\n",
       "    </tr>\n",
       "    <tr>\n",
       "      <th>4</th>\n",
       "      <td>MT862867</td>\n",
       "      <td>495.0</td>\n",
       "      <td>MHC-I</td>\n",
       "      <td>HLA-A*02:01</td>\n",
       "      <td>1</td>\n",
       "      <td>424</td>\n",
       "      <td>432</td>\n",
       "      <td>9</td>\n",
       "      <td>SIGGVFTSV</td>\n",
       "      <td>SIGGVFTSV</td>\n",
       "      <td>SIGGVFTSV</td>\n",
       "      <td>0.697219</td>\n",
       "      <td>0.13</td>\n",
       "      <td>NaN</td>\n",
       "      <td>NaN</td>\n",
       "      <td>NaN</td>\n",
       "      <td>NaN</td>\n",
       "      <td>NaN</td>\n",
       "    </tr>\n",
       "  </tbody>\n",
       "</table>\n",
       "</div>"
      ],
      "text/plain": [
       "  accession_code  protein_length antigen_presenting_protein       allele  \\\n",
       "0       MT862867           495.0                      MHC-I  HLA-B*44:02   \n",
       "1       MT862867           495.0                      MHC-I  HLA-B*44:02   \n",
       "2       MT862867           495.0                      MHC-I  HLA-B*44:02   \n",
       "3       MT862867           495.0                      MHC-I  HLA-B*44:02   \n",
       "4       MT862867           495.0                      MHC-I  HLA-A*02:01   \n",
       "\n",
       "   seq_num  start  end  length    peptide       core      icore     score  \\\n",
       "0        1    383  391       9  GEKALKLSW  GEKALKLSW  GEKALKLSW  0.966258   \n",
       "1        1     12   20       9  VEGLSGATW  VEGLSGATW  VEGLSGATW  0.904180   \n",
       "2        1    369  377       9  TEPPFGESY  TEPPFGESY  TEPPFGESY  0.781430   \n",
       "3        1    313  321       9  AETQHGTVL  AETQHGTVL  AETQHGTVL  0.747154   \n",
       "4        1    424  432       9  SIGGVFTSV  SIGGVFTSV  SIGGVFTSV  0.697219   \n",
       "\n",
       "   rank  protein_length  acession_code  protein_lenght  \\\n",
       "0  0.01              NaN           NaN             NaN   \n",
       "1  0.03              NaN           NaN             NaN   \n",
       "2  0.06              NaN           NaN             NaN   \n",
       "3  0.08              NaN           NaN             NaN   \n",
       "4  0.13              NaN           NaN             NaN   \n",
       "\n",
       "  antigen_presenting_prortein antigen_presenting _protein  \n",
       "0                         NaN                         NaN  \n",
       "1                         NaN                         NaN  \n",
       "2                         NaN                         NaN  \n",
       "3                         NaN                         NaN  \n",
       "4                         NaN                         NaN  "
      ]
     },
     "execution_count": 74,
     "metadata": {},
     "output_type": "execute_result"
    }
   ],
   "source": [
    "df.head()"
   ]
  },
  {
   "cell_type": "code",
   "execution_count": 75,
   "metadata": {},
   "outputs": [
    {
     "data": {
      "text/plain": [
       "Index(['accession_code', 'protein_length', 'antigen_presenting_protein',\n",
       "       'allele', 'seq_num', 'start', 'end', 'length', 'peptide', 'core',\n",
       "       'icore', 'score', 'rank', 'protein_length ', 'acession_code',\n",
       "       'protein_lenght', 'antigen_presenting_prortein',\n",
       "       'antigen_presenting _protein'],\n",
       "      dtype='object')"
      ]
     },
     "execution_count": 75,
     "metadata": {},
     "output_type": "execute_result"
    }
   ],
   "source": [
    "df.columns"
   ]
  },
  {
   "cell_type": "code",
   "execution_count": 76,
   "metadata": {},
   "outputs": [],
   "source": [
    "keep = ['accession_code', 'protein_length', 'antigen_presenting_protein',\n",
    "       'allele', 'seq_num', 'start', 'end', 'length', 'peptide', 'core',\n",
    "       'icore', 'score', 'rank']"
   ]
  },
  {
   "cell_type": "code",
   "execution_count": 78,
   "metadata": {},
   "outputs": [],
   "source": [
    "df = df[keep]"
   ]
  },
  {
   "cell_type": "code",
   "execution_count": 79,
   "metadata": {},
   "outputs": [],
   "source": [
    "df.to_csv(\"../cleaned_data/MHC-I_cleaned.csv\", index=False, encoding='utf-8-sig')"
   ]
  },
  {
   "cell_type": "code",
   "execution_count": 80,
   "metadata": {},
   "outputs": [],
   "source": [
    "# read clean data \n",
    "data = pd.read_csv(\"../cleaned_data/MHC-I_cleaned.csv\")"
   ]
  },
  {
   "cell_type": "code",
   "execution_count": 81,
   "metadata": {},
   "outputs": [
    {
     "data": {
      "text/html": [
       "<div>\n",
       "<style scoped>\n",
       "    .dataframe tbody tr th:only-of-type {\n",
       "        vertical-align: middle;\n",
       "    }\n",
       "\n",
       "    .dataframe tbody tr th {\n",
       "        vertical-align: top;\n",
       "    }\n",
       "\n",
       "    .dataframe thead th {\n",
       "        text-align: right;\n",
       "    }\n",
       "</style>\n",
       "<table border=\"1\" class=\"dataframe\">\n",
       "  <thead>\n",
       "    <tr style=\"text-align: right;\">\n",
       "      <th></th>\n",
       "      <th>accession_code</th>\n",
       "      <th>protein_length</th>\n",
       "      <th>antigen_presenting_protein</th>\n",
       "      <th>allele</th>\n",
       "      <th>seq_num</th>\n",
       "      <th>start</th>\n",
       "      <th>end</th>\n",
       "      <th>length</th>\n",
       "      <th>peptide</th>\n",
       "      <th>core</th>\n",
       "      <th>icore</th>\n",
       "      <th>score</th>\n",
       "      <th>rank</th>\n",
       "    </tr>\n",
       "  </thead>\n",
       "  <tbody>\n",
       "    <tr>\n",
       "      <th>0</th>\n",
       "      <td>MT862867</td>\n",
       "      <td>495.0</td>\n",
       "      <td>MHC-I</td>\n",
       "      <td>HLA-B*44:02</td>\n",
       "      <td>1</td>\n",
       "      <td>383</td>\n",
       "      <td>391</td>\n",
       "      <td>9</td>\n",
       "      <td>GEKALKLSW</td>\n",
       "      <td>GEKALKLSW</td>\n",
       "      <td>GEKALKLSW</td>\n",
       "      <td>0.966258</td>\n",
       "      <td>0.01</td>\n",
       "    </tr>\n",
       "    <tr>\n",
       "      <th>1</th>\n",
       "      <td>MT862867</td>\n",
       "      <td>495.0</td>\n",
       "      <td>MHC-I</td>\n",
       "      <td>HLA-B*44:02</td>\n",
       "      <td>1</td>\n",
       "      <td>12</td>\n",
       "      <td>20</td>\n",
       "      <td>9</td>\n",
       "      <td>VEGLSGATW</td>\n",
       "      <td>VEGLSGATW</td>\n",
       "      <td>VEGLSGATW</td>\n",
       "      <td>0.904180</td>\n",
       "      <td>0.03</td>\n",
       "    </tr>\n",
       "    <tr>\n",
       "      <th>2</th>\n",
       "      <td>MT862867</td>\n",
       "      <td>495.0</td>\n",
       "      <td>MHC-I</td>\n",
       "      <td>HLA-B*44:02</td>\n",
       "      <td>1</td>\n",
       "      <td>369</td>\n",
       "      <td>377</td>\n",
       "      <td>9</td>\n",
       "      <td>TEPPFGESY</td>\n",
       "      <td>TEPPFGESY</td>\n",
       "      <td>TEPPFGESY</td>\n",
       "      <td>0.781430</td>\n",
       "      <td>0.06</td>\n",
       "    </tr>\n",
       "    <tr>\n",
       "      <th>3</th>\n",
       "      <td>MT862867</td>\n",
       "      <td>495.0</td>\n",
       "      <td>MHC-I</td>\n",
       "      <td>HLA-B*44:02</td>\n",
       "      <td>1</td>\n",
       "      <td>313</td>\n",
       "      <td>321</td>\n",
       "      <td>9</td>\n",
       "      <td>AETQHGTVL</td>\n",
       "      <td>AETQHGTVL</td>\n",
       "      <td>AETQHGTVL</td>\n",
       "      <td>0.747154</td>\n",
       "      <td>0.08</td>\n",
       "    </tr>\n",
       "    <tr>\n",
       "      <th>4</th>\n",
       "      <td>MT862867</td>\n",
       "      <td>495.0</td>\n",
       "      <td>MHC-I</td>\n",
       "      <td>HLA-A*02:01</td>\n",
       "      <td>1</td>\n",
       "      <td>424</td>\n",
       "      <td>432</td>\n",
       "      <td>9</td>\n",
       "      <td>SIGGVFTSV</td>\n",
       "      <td>SIGGVFTSV</td>\n",
       "      <td>SIGGVFTSV</td>\n",
       "      <td>0.697219</td>\n",
       "      <td>0.13</td>\n",
       "    </tr>\n",
       "  </tbody>\n",
       "</table>\n",
       "</div>"
      ],
      "text/plain": [
       "  accession_code  protein_length antigen_presenting_protein       allele  \\\n",
       "0       MT862867           495.0                      MHC-I  HLA-B*44:02   \n",
       "1       MT862867           495.0                      MHC-I  HLA-B*44:02   \n",
       "2       MT862867           495.0                      MHC-I  HLA-B*44:02   \n",
       "3       MT862867           495.0                      MHC-I  HLA-B*44:02   \n",
       "4       MT862867           495.0                      MHC-I  HLA-A*02:01   \n",
       "\n",
       "   seq_num  start  end  length    peptide       core      icore     score  \\\n",
       "0        1    383  391       9  GEKALKLSW  GEKALKLSW  GEKALKLSW  0.966258   \n",
       "1        1     12   20       9  VEGLSGATW  VEGLSGATW  VEGLSGATW  0.904180   \n",
       "2        1    369  377       9  TEPPFGESY  TEPPFGESY  TEPPFGESY  0.781430   \n",
       "3        1    313  321       9  AETQHGTVL  AETQHGTVL  AETQHGTVL  0.747154   \n",
       "4        1    424  432       9  SIGGVFTSV  SIGGVFTSV  SIGGVFTSV  0.697219   \n",
       "\n",
       "   rank  \n",
       "0  0.01  \n",
       "1  0.03  \n",
       "2  0.06  \n",
       "3  0.08  \n",
       "4  0.13  "
      ]
     },
     "execution_count": 81,
     "metadata": {},
     "output_type": "execute_result"
    }
   ],
   "source": [
    "data.head() "
   ]
  },
  {
   "cell_type": "code",
   "execution_count": 82,
   "metadata": {},
   "outputs": [
    {
     "data": {
      "text/plain": [
       "Index(['accession_code', 'protein_length', 'antigen_presenting_protein',\n",
       "       'allele', 'seq_num', 'start', 'end', 'length', 'peptide', 'core',\n",
       "       'icore', 'score', 'rank'],\n",
       "      dtype='object')"
      ]
     },
     "execution_count": 82,
     "metadata": {},
     "output_type": "execute_result"
    }
   ],
   "source": [
    "data.columns"
   ]
  },
  {
   "cell_type": "code",
   "execution_count": 83,
   "metadata": {},
   "outputs": [
    {
     "data": {
      "text/plain": [
       "(27610, 13)"
      ]
     },
     "execution_count": 83,
     "metadata": {},
     "output_type": "execute_result"
    }
   ],
   "source": [
    "data.shape "
   ]
  }
 ],
 "metadata": {
  "kernelspec": {
   "display_name": "Python 3",
   "language": "python",
   "name": "python3"
  },
  "language_info": {
   "codemirror_mode": {
    "name": "ipython",
    "version": 3
   },
   "file_extension": ".py",
   "mimetype": "text/x-python",
   "name": "python",
   "nbconvert_exporter": "python",
   "pygments_lexer": "ipython3",
   "version": "3.7.4"
  },
  "latex_envs": {
   "LaTeX_envs_menu_present": true,
   "autoclose": false,
   "autocomplete": true,
   "bibliofile": "biblio.bib",
   "cite_by": "apalike",
   "current_citInitial": 1,
   "eqLabelWithNumbers": true,
   "eqNumInitial": 1,
   "hotkeys": {
    "equation": "Ctrl-E",
    "itemize": "Ctrl-I"
   },
   "labels_anchors": false,
   "latex_user_defs": false,
   "report_style_numbering": false,
   "user_envs_cfg": false
  }
 },
 "nbformat": 4,
 "nbformat_minor": 4
}

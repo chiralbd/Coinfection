{
 "cells": [
  {
   "cell_type": "markdown",
   "metadata": {},
   "source": [
    "# MHC-I Binding Dataset Preparation"
   ]
  },
  {
   "cell_type": "code",
   "execution_count": 77,
   "metadata": {},
   "outputs": [],
   "source": [
    "import pandas as pd\n",
    "import dask.dataframe as dd "
   ]
  },
  {
   "cell_type": "markdown",
   "metadata": {},
   "source": [
    "## Read single `csv` from single folder."
   ]
  },
  {
   "cell_type": "code",
   "execution_count": 67,
   "metadata": {},
   "outputs": [],
   "source": [
    "def readData(data, output=\"dataset.csv\",  accession_code=None,protein_length=None, antigen_presenting_protein=None): \n",
    "    \"\"\"\n",
    "    Reads combined dataset and these columns into existing combined dataset.\n",
    "    Params: \n",
    "        data: Dataset that takes as an input\n",
    "        output: Save the dataset as .csv format \n",
    "        accession_code: A column name of the dataset that contains sequence accession code. \n",
    "        protein_lenght: A column name of the dataset that contains the protein sequence length. \n",
    "        antigent_presenting_protein: A column name of the dataet that presents the antigent presenting protein MHC-I or MHC-II\n",
    "    \"\"\" \n",
    "    col_names = ['allele', 'seq_num', 'start', 'end', 'length', 'peptide', 'core','icore', 'score', 'rank']\n",
    "    df = pd.read_csv(data, sep='\\t', names=col_names) \n",
    "    df['accession_code'] = [accession_code] * df.shape[0] \n",
    "    df['protein_length'] = [protein_length] * df.shape[0]  \n",
    "    df['antigen_presenting_protein'] = [antigen_presenting_protein] * df.shape[0] \n",
    "    df.drop(['allele','seq_num', 'core','icore','rank'], axis=1,inplace=True)\n",
    "    return df.to_csv(output, index=False)"
   ]
  },
  {
   "cell_type": "code",
   "execution_count": 68,
   "metadata": {},
   "outputs": [],
   "source": [
    "# 1: MN959467\n",
    "readData('../mhc-i/MN959467.txt',accession_code='MN959467', protein_length=495, \n",
    "         antigen_presenting_protein='MHC-I', output='../cleaned_data/mhc-i/MN959467.csv')"
   ]
  },
  {
   "cell_type": "code",
   "execution_count": 69,
   "metadata": {},
   "outputs": [],
   "source": [
    "# 2: MN959468\n",
    "readData('../mhc-i/MN959468.txt',accession_code='MN959468', protein_length=495, \n",
    "         antigen_presenting_protein='MHC-I', output='../cleaned_data/mhc-i/MN959468.csv')"
   ]
  },
  {
   "cell_type": "code",
   "execution_count": 70,
   "metadata": {},
   "outputs": [],
   "source": [
    "# 3: MN959469\n",
    "readData('../mhc-i/MN959469.txt',accession_code='MN959469', protein_length=495, \n",
    "         antigen_presenting_protein='MHC-I', output='../cleaned_data/mhc-i/MN959469.csv')"
   ]
  },
  {
   "cell_type": "code",
   "execution_count": 71,
   "metadata": {},
   "outputs": [],
   "source": [
    "# 4: MT862865\n",
    "readData('../mhc-i/MT862865.txt',accession_code='MT862865', protein_length=495, \n",
    "         antigen_presenting_protein='MHC-I', output='../cleaned_data/mhc-i/MT862865.csv')"
   ]
  },
  {
   "cell_type": "code",
   "execution_count": 72,
   "metadata": {},
   "outputs": [],
   "source": [
    "# 5: MT862866\n",
    "readData('../mhc-i/MT862866.txt',accession_code='MT862866', protein_length=495, \n",
    "         antigen_presenting_protein='MHC-I', output='../cleaned_data/mhc-i/MT862866.csv')"
   ]
  },
  {
   "cell_type": "code",
   "execution_count": 73,
   "metadata": {},
   "outputs": [],
   "source": [
    "# 6: MT862867\n",
    "readData('../mhc-i/MT862867.txt',accession_code='MT862867', protein_length=495, \n",
    "         antigen_presenting_protein='MHC-I', output='../cleaned_data/mhc-i/MT862867.csv')"
   ]
  },
  {
   "cell_type": "code",
   "execution_count": 74,
   "metadata": {},
   "outputs": [],
   "source": [
    "# 7: MT862868\n",
    "readData('../mhc-i/MT862868.txt',accession_code='MT862868', protein_length=495, \n",
    "         antigen_presenting_protein='MHC-I', output='../cleaned_data/mhc-i/MT862868.csv')"
   ]
  },
  {
   "cell_type": "code",
   "execution_count": 75,
   "metadata": {},
   "outputs": [],
   "source": [
    "# 8: MT862869\n",
    "readData('../mhc-i/MT862869.txt',accession_code='MT862869', protein_length=495, \n",
    "         antigen_presenting_protein='MHC-I', output='../cleaned_data/mhc-i/MT862869.csv')"
   ]
  },
  {
   "cell_type": "code",
   "execution_count": 76,
   "metadata": {},
   "outputs": [],
   "source": [
    "# 9: MT862869\n",
    "readData('../mhc-i/MT862870.txt',accession_code='MT862870', protein_length=495, \n",
    "         antigen_presenting_protein='MHC-I', output='../cleaned_data/mhc-i/MT862870.csv')"
   ]
  },
  {
   "cell_type": "markdown",
   "metadata": {},
   "source": [
    "## Read multiple `csv` from multiple folder."
   ]
  },
  {
   "cell_type": "code",
   "execution_count": 85,
   "metadata": {},
   "outputs": [],
   "source": [
    "def readData(data, output=\"dataset.csv\",  accession_code=None,protein_length=None, antigen_presenting_protein=None): \n",
    "    \"\"\"\n",
    "    Reads combined dataset and these columns into existing combined dataset.\n",
    "    Params: \n",
    "        data: Dataset that takes as an input\n",
    "        output: Save the dataset as .csv format \n",
    "        accession_code: A column name of the dataset that contains sequence accession code. \n",
    "        protein_lenght: A column name of the dataset that contains the protein sequence length. \n",
    "        antigent_presenting_protein: A column name of the dataet that presents the antigent presenting protein MHC-I or MHC-II\n",
    "    \"\"\" \n",
    "    col_names = ['allele', 'seq_num', 'start', 'end', 'length', 'peptide', 'core','icore', 'score', 'rank']\n",
    "    df = dd.read_csv(data) \n",
    "    df = df.compute()\n",
    "    df['accession_code'] = [accession_code] * df.shape[0] \n",
    "    df['protein_length'] = [protein_length] * df.shape[0]  \n",
    "    df['antigen_presenting_protein'] = [antigen_presenting_protein] * df.shape[0] \n",
    "    df.drop(['allele','seq_num', 'core','icore','rank'], axis=1,inplace=True)\n",
    "    return df.to_csv(output, index=False)"
   ]
  }
 ],
 "metadata": {
  "kernelspec": {
   "display_name": "Python 3",
   "language": "python",
   "name": "python3"
  },
  "language_info": {
   "codemirror_mode": {
    "name": "ipython",
    "version": 3
   },
   "file_extension": ".py",
   "mimetype": "text/x-python",
   "name": "python",
   "nbconvert_exporter": "python",
   "pygments_lexer": "ipython3",
   "version": "3.7.4"
  },
  "latex_envs": {
   "LaTeX_envs_menu_present": true,
   "autoclose": false,
   "autocomplete": true,
   "bibliofile": "biblio.bib",
   "cite_by": "apalike",
   "current_citInitial": 1,
   "eqLabelWithNumbers": true,
   "eqNumInitial": 1,
   "hotkeys": {
    "equation": "Ctrl-E",
    "itemize": "Ctrl-I"
   },
   "labels_anchors": false,
   "latex_user_defs": false,
   "report_style_numbering": false,
   "user_envs_cfg": false
  }
 },
 "nbformat": 4,
 "nbformat_minor": 4
}
